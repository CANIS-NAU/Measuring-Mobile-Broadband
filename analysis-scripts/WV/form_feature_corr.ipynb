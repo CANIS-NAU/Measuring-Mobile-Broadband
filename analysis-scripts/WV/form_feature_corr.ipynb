{
 "cells": [
  {
   "cell_type": "code",
   "execution_count": 1,
   "metadata": {},
   "outputs": [],
   "source": [
    "import pandas as pd\n",
    "import geopandas as gd\n",
    "import numpy as np\n",
    "import matplotlib.pyplot as plt\n",
    "from datetime import datetime\n",
    "import os\n",
    "import rasterio\n",
    "import rasterio.warp\n",
    "from rasterio import features\n",
    "import shapely.geometry\n",
    "import shapely\n",
    "import seaborn as sn"
   ]
  },
  {
   "cell_type": "code",
   "execution_count": 2,
   "metadata": {},
   "outputs": [],
   "source": [
    "os.chdir('/projects/canis/eoc_feature_corr')"
   ]
  },
  {
   "cell_type": "code",
   "execution_count": 3,
   "metadata": {},
   "outputs": [],
   "source": [
    "grid_path = \"./data/by_state/WV/wv_extent_coverage.shp\"\n",
    "grid = gd.read_file(grid_path)\n",
    "grid = grid.set_index('id')"
   ]
  },
  {
   "cell_type": "code",
   "execution_count": 4,
   "metadata": {},
   "outputs": [],
   "source": [
    "feature_path = './data/cover/landforms_10classes_30m_dd83_3857.tiff'\n",
    "\n",
    "feature_file = rasterio.open(feature_path)\n",
    "feature_raster = feature_file.read(1)"
   ]
  },
  {
   "cell_type": "code",
   "execution_count": 5,
   "metadata": {},
   "outputs": [
    {
     "data": {
      "text/html": [
       "<div>\n",
       "<style scoped>\n",
       "    .dataframe tbody tr th:only-of-type {\n",
       "        vertical-align: middle;\n",
       "    }\n",
       "\n",
       "    .dataframe tbody tr th {\n",
       "        vertical-align: top;\n",
       "    }\n",
       "\n",
       "    .dataframe thead th {\n",
       "        text-align: right;\n",
       "    }\n",
       "</style>\n",
       "<table border=\"1\" class=\"dataframe\">\n",
       "  <thead>\n",
       "    <tr style=\"text-align: right;\">\n",
       "      <th></th>\n",
       "      <th>left</th>\n",
       "      <th>top</th>\n",
       "      <th>right</th>\n",
       "      <th>bottom</th>\n",
       "      <th>med_rxpwr</th>\n",
       "      <th>chg_covera</th>\n",
       "      <th>verizon_co</th>\n",
       "      <th>geometry</th>\n",
       "      <th>feature</th>\n",
       "    </tr>\n",
       "    <tr>\n",
       "      <th>id</th>\n",
       "      <th></th>\n",
       "      <th></th>\n",
       "      <th></th>\n",
       "      <th></th>\n",
       "      <th></th>\n",
       "      <th></th>\n",
       "      <th></th>\n",
       "      <th></th>\n",
       "      <th></th>\n",
       "    </tr>\n",
       "  </thead>\n",
       "  <tbody>\n",
       "    <tr>\n",
       "      <th>231.0</th>\n",
       "      <td>-9.152446e+06</td>\n",
       "      <td>4.595449e+06</td>\n",
       "      <td>-9.151446e+06</td>\n",
       "      <td>4.594449e+06</td>\n",
       "      <td>-120.000</td>\n",
       "      <td>0</td>\n",
       "      <td>0</td>\n",
       "      <td>POLYGON ((-9152445.857 4595449.221, -9151445.8...</td>\n",
       "      <td>7</td>\n",
       "    </tr>\n",
       "    <tr>\n",
       "      <th>241.0</th>\n",
       "      <td>-9.152446e+06</td>\n",
       "      <td>4.585449e+06</td>\n",
       "      <td>-9.151446e+06</td>\n",
       "      <td>4.584449e+06</td>\n",
       "      <td>-120.000</td>\n",
       "      <td>0</td>\n",
       "      <td>0</td>\n",
       "      <td>POLYGON ((-9152445.857 4585449.221, -9151445.8...</td>\n",
       "      <td>7</td>\n",
       "    </tr>\n",
       "    <tr>\n",
       "      <th>579.0</th>\n",
       "      <td>-9.151446e+06</td>\n",
       "      <td>4.596449e+06</td>\n",
       "      <td>-9.150446e+06</td>\n",
       "      <td>4.595449e+06</td>\n",
       "      <td>-120.000</td>\n",
       "      <td>0</td>\n",
       "      <td>1</td>\n",
       "      <td>POLYGON ((-9151445.857 4596449.221, -9150445.8...</td>\n",
       "      <td>7</td>\n",
       "    </tr>\n",
       "    <tr>\n",
       "      <th>590.0</th>\n",
       "      <td>-9.151446e+06</td>\n",
       "      <td>4.585449e+06</td>\n",
       "      <td>-9.150446e+06</td>\n",
       "      <td>4.584449e+06</td>\n",
       "      <td>-120.000</td>\n",
       "      <td>0</td>\n",
       "      <td>0</td>\n",
       "      <td>POLYGON ((-9151445.857 4585449.221, -9150445.8...</td>\n",
       "      <td>7</td>\n",
       "    </tr>\n",
       "    <tr>\n",
       "      <th>591.0</th>\n",
       "      <td>-9.151446e+06</td>\n",
       "      <td>4.584449e+06</td>\n",
       "      <td>-9.150446e+06</td>\n",
       "      <td>4.583449e+06</td>\n",
       "      <td>-120.000</td>\n",
       "      <td>0</td>\n",
       "      <td>0</td>\n",
       "      <td>POLYGON ((-9151445.857 4584449.221, -9150445.8...</td>\n",
       "      <td>10</td>\n",
       "    </tr>\n",
       "    <tr>\n",
       "      <th>...</th>\n",
       "      <td>...</td>\n",
       "      <td>...</td>\n",
       "      <td>...</td>\n",
       "      <td>...</td>\n",
       "      <td>...</td>\n",
       "      <td>...</td>\n",
       "      <td>...</td>\n",
       "      <td>...</td>\n",
       "      <td>...</td>\n",
       "    </tr>\n",
       "    <tr>\n",
       "      <th>173860.0</th>\n",
       "      <td>-8.654446e+06</td>\n",
       "      <td>4.768449e+06</td>\n",
       "      <td>-8.653446e+06</td>\n",
       "      <td>4.767449e+06</td>\n",
       "      <td>-107.930</td>\n",
       "      <td>1</td>\n",
       "      <td>1</td>\n",
       "      <td>POLYGON ((-8654445.857 4768449.221, -8653445.8...</td>\n",
       "      <td>10</td>\n",
       "    </tr>\n",
       "    <tr>\n",
       "      <th>173861.0</th>\n",
       "      <td>-8.654446e+06</td>\n",
       "      <td>4.767449e+06</td>\n",
       "      <td>-8.653446e+06</td>\n",
       "      <td>4.766449e+06</td>\n",
       "      <td>-108.075</td>\n",
       "      <td>1</td>\n",
       "      <td>1</td>\n",
       "      <td>POLYGON ((-8654445.857 4767449.221, -8653445.8...</td>\n",
       "      <td>8</td>\n",
       "    </tr>\n",
       "    <tr>\n",
       "      <th>174209.0</th>\n",
       "      <td>-8.653446e+06</td>\n",
       "      <td>4.768449e+06</td>\n",
       "      <td>-8.652446e+06</td>\n",
       "      <td>4.767449e+06</td>\n",
       "      <td>-102.595</td>\n",
       "      <td>1</td>\n",
       "      <td>1</td>\n",
       "      <td>POLYGON ((-8653445.857 4768449.221, -8652445.8...</td>\n",
       "      <td>8</td>\n",
       "    </tr>\n",
       "    <tr>\n",
       "      <th>174210.0</th>\n",
       "      <td>-8.653446e+06</td>\n",
       "      <td>4.767449e+06</td>\n",
       "      <td>-8.652446e+06</td>\n",
       "      <td>4.766449e+06</td>\n",
       "      <td>-99.250</td>\n",
       "      <td>1</td>\n",
       "      <td>1</td>\n",
       "      <td>POLYGON ((-8653445.857 4767449.221, -8652445.8...</td>\n",
       "      <td>8</td>\n",
       "    </tr>\n",
       "    <tr>\n",
       "      <th>174558.0</th>\n",
       "      <td>-8.652446e+06</td>\n",
       "      <td>4.768449e+06</td>\n",
       "      <td>-8.651446e+06</td>\n",
       "      <td>4.767449e+06</td>\n",
       "      <td>-96.660</td>\n",
       "      <td>1</td>\n",
       "      <td>1</td>\n",
       "      <td>POLYGON ((-8652445.857 4768449.221, -8651445.8...</td>\n",
       "      <td>10</td>\n",
       "    </tr>\n",
       "  </tbody>\n",
       "</table>\n",
       "<p>5369 rows × 9 columns</p>\n",
       "</div>"
      ],
      "text/plain": [
       "                  left           top         right        bottom  med_rxpwr  \\\n",
       "id                                                                            \n",
       "231.0    -9.152446e+06  4.595449e+06 -9.151446e+06  4.594449e+06   -120.000   \n",
       "241.0    -9.152446e+06  4.585449e+06 -9.151446e+06  4.584449e+06   -120.000   \n",
       "579.0    -9.151446e+06  4.596449e+06 -9.150446e+06  4.595449e+06   -120.000   \n",
       "590.0    -9.151446e+06  4.585449e+06 -9.150446e+06  4.584449e+06   -120.000   \n",
       "591.0    -9.151446e+06  4.584449e+06 -9.150446e+06  4.583449e+06   -120.000   \n",
       "...                ...           ...           ...           ...        ...   \n",
       "173860.0 -8.654446e+06  4.768449e+06 -8.653446e+06  4.767449e+06   -107.930   \n",
       "173861.0 -8.654446e+06  4.767449e+06 -8.653446e+06  4.766449e+06   -108.075   \n",
       "174209.0 -8.653446e+06  4.768449e+06 -8.652446e+06  4.767449e+06   -102.595   \n",
       "174210.0 -8.653446e+06  4.767449e+06 -8.652446e+06  4.766449e+06    -99.250   \n",
       "174558.0 -8.652446e+06  4.768449e+06 -8.651446e+06  4.767449e+06    -96.660   \n",
       "\n",
       "          chg_covera  verizon_co  \\\n",
       "id                                 \n",
       "231.0              0           0   \n",
       "241.0              0           0   \n",
       "579.0              0           1   \n",
       "590.0              0           0   \n",
       "591.0              0           0   \n",
       "...              ...         ...   \n",
       "173860.0           1           1   \n",
       "173861.0           1           1   \n",
       "174209.0           1           1   \n",
       "174210.0           1           1   \n",
       "174558.0           1           1   \n",
       "\n",
       "                                                   geometry  feature  \n",
       "id                                                                    \n",
       "231.0     POLYGON ((-9152445.857 4595449.221, -9151445.8...        7  \n",
       "241.0     POLYGON ((-9152445.857 4585449.221, -9151445.8...        7  \n",
       "579.0     POLYGON ((-9151445.857 4596449.221, -9150445.8...        7  \n",
       "590.0     POLYGON ((-9151445.857 4585449.221, -9150445.8...        7  \n",
       "591.0     POLYGON ((-9151445.857 4584449.221, -9150445.8...       10  \n",
       "...                                                     ...      ...  \n",
       "173860.0  POLYGON ((-8654445.857 4768449.221, -8653445.8...       10  \n",
       "173861.0  POLYGON ((-8654445.857 4767449.221, -8653445.8...        8  \n",
       "174209.0  POLYGON ((-8653445.857 4768449.221, -8652445.8...        8  \n",
       "174210.0  POLYGON ((-8653445.857 4767449.221, -8652445.8...        8  \n",
       "174558.0  POLYGON ((-8652445.857 4768449.221, -8651445.8...       10  \n",
       "\n",
       "[5369 rows x 9 columns]"
      ]
     },
     "execution_count": 5,
     "metadata": {},
     "output_type": "execute_result"
    }
   ],
   "source": [
    "grid['centroid'] = grid['geometry'].centroid\n",
    "grid = grid.set_geometry('centroid')\n",
    "grid['feature'] = grid['centroid'].map(lambda coords: next(feature_file.sample(coords.coords, indexes=1))[0])\n",
    "grid = grid.set_geometry('geometry')\n",
    "grid = grid.drop('centroid', axis=1)\n",
    "grid"
   ]
  },
  {
   "cell_type": "code",
   "execution_count": 6,
   "metadata": {},
   "outputs": [],
   "source": [
    "grid['agreement'] = grid['chg_covera'] == grid['verizon_co']"
   ]
  },
  {
   "cell_type": "code",
   "execution_count": 7,
   "metadata": {},
   "outputs": [],
   "source": [
    "sn.set(rc={'axes.facecolor':'white', 'figure.facecolor':'white'})"
   ]
  },
  {
   "cell_type": "code",
   "execution_count": 8,
   "metadata": {},
   "outputs": [
    {
     "name": "stdout",
     "output_type": "stream",
     "text": [
      "Agreement     False     True \n",
      "Form Type                    \n",
      "1          0.400000  0.600000\n",
      "2          0.357143  0.642857\n",
      "3          0.441441  0.558559\n",
      "4          0.461538  0.538462\n",
      "6          0.486936  0.513064\n",
      "7          0.542714  0.457286\n",
      "8          0.513577  0.486423\n",
      "10         0.411120  0.588880\n"
     ]
    }
   ],
   "source": [
    "confusion_matrix = pd.crosstab( grid['feature'],grid['agreement'], rownames=['Form Type'], colnames=['Agreement'], normalize='index')\n",
    "print (confusion_matrix)"
   ]
  },
  {
   "cell_type": "code",
   "execution_count": 9,
   "metadata": {},
   "outputs": [],
   "source": [
    "confusion_matrix['Total'] = grid.groupby('feature').count()['agreement']"
   ]
  },
  {
   "cell_type": "code",
   "execution_count": 10,
   "metadata": {},
   "outputs": [
    {
     "data": {
      "image/png": "[encoded data removed]",
      "text/plain": [
       "<Figure size 432x288 with 2 Axes>"
      ]
     },
     "metadata": {},
     "output_type": "display_data"
    }
   ],
   "source": [
    "sn.heatmap(confusion_matrix, annot=True)\n",
    "plt.show()"
   ]
  },
  {
   "cell_type": "code",
   "execution_count": 11,
   "metadata": {},
   "outputs": [
    {
     "name": "stdout",
     "output_type": "stream",
     "text": [
      "Agreement   False  True   All\n",
      "Cover Type                   \n",
      "1              16    24    40\n",
      "2             185   333   518\n",
      "3             392   496   888\n",
      "4              24    28    52\n",
      "6             410   432   842\n",
      "7             540   455   995\n",
      "8             435   412   847\n",
      "10            488   699  1187\n",
      "All          2490  2879  5369\n"
     ]
    },
    {
     "data": {
      "image/png": "[encoded data removed]",
      "text/plain": [
       "<Figure size 432x288 with 2 Axes>"
      ]
     },
     "metadata": {},
     "output_type": "display_data"
    }
   ],
   "source": [
    "confusion_matrix = pd.crosstab( grid['feature'],grid['agreement'], rownames=['Cover Type'], colnames=['Agreement'], margins=True)\n",
    "print (confusion_matrix)\n",
    "sn.heatmap(confusion_matrix, annot=True)\n",
    "plt.show()"
   ]
  },
  {
   "cell_type": "code",
   "execution_count": null,
   "metadata": {},
   "outputs": [],
   "source": []
  },
  {
   "cell_type": "code",
   "execution_count": null,
   "metadata": {},
   "outputs": [],
   "source": []
  }
 ],
 "metadata": {
  "kernelspec": {
   "display_name": "geopandas37-conda-env",
   "language": "python",
   "name": "auto_geopandas37"
  },
  "language_info": {
   "codemirror_mode": {
    "name": "ipython",
    "version": 3
   },
   "file_extension": ".py",
   "mimetype": "text/x-python",
   "name": "python",
   "nbconvert_exporter": "python",
   "pygments_lexer": "ipython3",
   "version": "3.7.7"
  }
 },
 "nbformat": 4,
 "nbformat_minor": 4
}
