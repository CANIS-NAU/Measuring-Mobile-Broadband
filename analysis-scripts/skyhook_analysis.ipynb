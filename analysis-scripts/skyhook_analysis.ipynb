{
 "cells": [
  {
   "cell_type": "code",
   "execution_count": 1,
   "metadata": {},
   "outputs": [],
   "source": [
    "import pandas as pd\n",
    "import geopandas as gd\n",
    "import numpy as np\n",
    "import matplotlib.pyplot as plt\n",
    "from datetime import datetime"
   ]
  },
  {
   "cell_type": "markdown",
   "metadata": {},
   "source": [
    "Setup and read data. The data is not included in this repo. Data is expected to be located in ../data/skyhook/ directory."
   ]
  },
  {
   "cell_type": "code",
   "execution_count": 2,
   "metadata": {},
   "outputs": [],
   "source": [
    "skyhook_col_types = {\n",
    "\"tide5id_100m\" : str,\n",
    "\"mac_oui\" : str,\n",
    "\"ssid\" : str,\n",
    "\"lat\" : float,\n",
    "\"lon\" : float ,\n",
    "\"rq_time\" : str, # we parse this as date with parse_dates parameter in read_csv call later\n",
    "\"zcta\" : int,\n",
    "\"zcta_city\" : str,\n",
    "\"zcta_county\" : str,\n",
    "\"zcta_state\" : str\n",
    "}\n",
    "\n",
    "skyhook_data = pd.read_csv(\"../data/skyhook/p1059_nau_oui_20210301.csv\", dtype=skyhook_col_types, parse_dates=['rq_time'])"
   ]
  },
  {
   "cell_type": "markdown",
   "metadata": {},
   "source": [
    "Read in Hopi shape and subset samples to those that lie within"
   ]
  },
  {
   "cell_type": "code",
   "execution_count": 3,
   "metadata": {},
   "outputs": [],
   "source": [
    "tribal_areas_path = '../data/tl_2019_us_aiannh/tl_2019_us_aiannh.shp'\n",
    "\n",
    "tribal_areas = gd.read_file(tribal_areas_path)\n",
    "tribal_areas.set_index('AIANNHCE', inplace=True)\n",
    "\n",
    "# 1505 is the AIANNHCE ID of the Hopi reservation\n",
    "# from https://www2.census.gov/geo/docs/reference/codes/AIAlist.txt\n",
    "hopi = tribal_areas.loc[\"1505\"]"
   ]
  },
  {
   "cell_type": "code",
   "execution_count": 5,
   "metadata": {},
   "outputs": [],
   "source": [
    "# EPSG:4326 is global lat/lon coordinates, we set this to begin with, then reproject into the correct coordinates from other data\n",
    "skyhook_gdf = gd.GeoDataFrame(skyhook_data, geometry=gd.points_from_xy(skyhook_data.lon, skyhook_data.lat)).set_crs(\"EPSG:4326\").to_crs(hopi.crs)"
   ]
  },
  {
   "cell_type": "code",
   "execution_count": 6,
   "metadata": {},
   "outputs": [],
   "source": [
    "skyhook_hopi = gd.overlay(skyhook_gdf, hopi, how=\"intersection\")"
   ]
  },
  {
   "cell_type": "markdown",
   "metadata": {},
   "source": [
    "Summary statistics of times of measurements and counts."
   ]
  },
  {
   "cell_type": "code",
   "execution_count": 7,
   "metadata": {
    "scrolled": true
   },
   "outputs": [
    {
     "data": {
      "text/html": [
       "<div>\n",
       "<style scoped>\n",
       "    .dataframe tbody tr th:only-of-type {\n",
       "        vertical-align: middle;\n",
       "    }\n",
       "\n",
       "    .dataframe tbody tr th {\n",
       "        vertical-align: top;\n",
       "    }\n",
       "\n",
       "    .dataframe thead th {\n",
       "        text-align: right;\n",
       "    }\n",
       "</style>\n",
       "<table border=\"1\" class=\"dataframe\">\n",
       "  <thead>\n",
       "    <tr style=\"text-align: right;\">\n",
       "      <th></th>\n",
       "      <th>rq_time</th>\n",
       "    </tr>\n",
       "  </thead>\n",
       "  <tbody>\n",
       "    <tr>\n",
       "      <th>count</th>\n",
       "      <td>1291723</td>\n",
       "    </tr>\n",
       "    <tr>\n",
       "      <th>mean</th>\n",
       "      <td>2020-09-17 07:06:19.692180224</td>\n",
       "    </tr>\n",
       "    <tr>\n",
       "      <th>min</th>\n",
       "      <td>2019-09-07 00:04:19</td>\n",
       "    </tr>\n",
       "    <tr>\n",
       "      <th>25%</th>\n",
       "      <td>2020-05-20 19:33:33.500000</td>\n",
       "    </tr>\n",
       "    <tr>\n",
       "      <th>50%</th>\n",
       "      <td>2020-10-29 23:15:28</td>\n",
       "    </tr>\n",
       "    <tr>\n",
       "      <th>75%</th>\n",
       "      <td>2021-02-21 01:56:43.500000</td>\n",
       "    </tr>\n",
       "    <tr>\n",
       "      <th>max</th>\n",
       "      <td>2021-03-07 23:59:52</td>\n",
       "    </tr>\n",
       "  </tbody>\n",
       "</table>\n",
       "</div>"
      ],
      "text/plain": [
       "                             rq_time\n",
       "count                        1291723\n",
       "mean   2020-09-17 07:06:19.692180224\n",
       "min              2019-09-07 00:04:19\n",
       "25%       2020-05-20 19:33:33.500000\n",
       "50%              2020-10-29 23:15:28\n",
       "75%       2021-02-21 01:56:43.500000\n",
       "max              2021-03-07 23:59:52"
      ]
     },
     "execution_count": 7,
     "metadata": {},
     "output_type": "execute_result"
    }
   ],
   "source": [
    "skyhook_data[['rq_time']].describe(datetime_is_numeric=True)"
   ]
  },
  {
   "cell_type": "code",
   "execution_count": 8,
   "metadata": {},
   "outputs": [
    {
     "data": {
      "image/png": "[encoded data removed]",
      "text/plain": [
       "<Figure size 432x288 with 2 Axes>"
      ]
     },
     "metadata": {
      "needs_background": "light"
     },
     "output_type": "display_data"
    }
   ],
   "source": [
    "weekly_counts = skyhook_data.resample('7d', on='rq_time')['rq_time'].count()\n",
    "\n",
    "cdf_color = 'tab:red'\n",
    "hist_color = 'tab:blue'\n",
    "\n",
    "num_bin = weekly_counts.shape[0]\n",
    "fig, cdf_ax = plt.subplots()\n",
    "cdf_ax.hist(np.arange(0,num_bin), num_bin, weights=weekly_counts, density=True, cumulative=True, histtype='step', color=cdf_color)\n",
    "cdf_ax.tick_params(axis='y', labelcolor=cdf_color)\n",
    "plt.ylabel(\"Cumulative samples\")\n",
    "plt.xlabel(\"Week of sample (from 2019-09-07)\")\n",
    "\n",
    "hist_ax = cdf_ax.twinx()\n",
    "\n",
    "hist_ax.hist(np.arange(0,num_bin), num_bin, weights=weekly_counts, histtype='step', color=hist_color)\n",
    "hist_ax.tick_params(axis='y', labelcolor=hist_color)\n",
    "plt.ylabel(\"Number of samples\")\n",
    "plt.show()"
   ]
  },
  {
   "cell_type": "code",
   "execution_count": 9,
   "metadata": {},
   "outputs": [
    {
     "data": {
      "image/png": "[encoded data removed]",
      "text/plain": [
       "<Figure size 432x288 with 2 Axes>"
      ]
     },
     "metadata": {
      "needs_background": "light"
     },
     "output_type": "display_data"
    }
   ],
   "source": [
    "\n",
    "daily_counts = skyhook_data.resample('1d', on='rq_time')['rq_time'].count()\n",
    "\n",
    "cdf_color = 'tab:red'\n",
    "hist_color = 'tab:blue'\n",
    "\n",
    "num_bin = daily_counts.shape[0]\n",
    "fig, cdf_ax = plt.subplots()\n",
    "cdf_ax.hist(np.arange(0,num_bin), num_bin, weights=daily_counts, density=True, cumulative=True, histtype='step', color=cdf_color)\n",
    "cdf_ax.tick_params(axis='y', labelcolor=cdf_color)\n",
    "plt.ylabel(\"Cumulative samples\")\n",
    "plt.xlabel(\"Day of sample (from 2019-09-07)\")\n",
    "\n",
    "hist_ax = cdf_ax.twinx()\n",
    "\n",
    "hist_ax.hist(np.arange(0,num_bin), num_bin, weights=daily_counts, histtype='step', color=hist_color)\n",
    "hist_ax.tick_params(axis='y', labelcolor=hist_color)\n",
    "plt.ylabel(\"Number of samples\")\n",
    "plt.show()"
   ]
  },
  {
   "cell_type": "code",
   "execution_count": 10,
   "metadata": {},
   "outputs": [
    {
     "data": {
      "text/plain": [
       "count    85510.000000\n",
       "mean        15.106105\n",
       "std         90.261841\n",
       "min          1.000000\n",
       "25%          1.000000\n",
       "50%          3.000000\n",
       "75%         10.000000\n",
       "max      17363.000000\n",
       "Name: tide5id_100m, dtype: float64"
      ]
     },
     "execution_count": 10,
     "metadata": {},
     "output_type": "execute_result"
    }
   ],
   "source": [
    "area_data = skyhook_data['tide5id_100m'].groupby(skyhook_data['tide5id_100m']).count().sort_values()\n",
    "frequency_count_measurement = area_data.groupby(area_data).count()\n",
    "\n",
    "area_data.describe()\n"
   ]
  },
  {
   "cell_type": "code",
   "execution_count": 11,
   "metadata": {},
   "outputs": [
    {
     "data": {
      "text/plain": [
       "count      598.000000\n",
       "mean       142.993311\n",
       "std       1266.646053\n",
       "min          1.000000\n",
       "25%          1.000000\n",
       "50%          2.000000\n",
       "75%         11.000000\n",
       "max      26625.000000\n",
       "Name: tide5id_100m, dtype: float64"
      ]
     },
     "execution_count": 11,
     "metadata": {},
     "output_type": "execute_result"
    }
   ],
   "source": [
    "frequency_count_measurement.describe()"
   ]
  },
  {
   "cell_type": "markdown",
   "metadata": {},
   "source": [
    "Creating a CDF of non-empty tiles"
   ]
  },
  {
   "cell_type": "code",
   "execution_count": 12,
   "metadata": {},
   "outputs": [
    {
     "data": {
      "image/png": "[encoded data removed]",
      "text/plain": [
       "<Figure size 432x288 with 1 Axes>"
      ]
     },
     "metadata": {
      "needs_background": "light"
     },
     "output_type": "display_data"
    }
   ],
   "source": [
    "num_bin = frequency_count_measurement.shape[0]\n",
    "fig, cdf_ax = plt.subplots()\n",
    "cdf_ax.hist(frequency_count_measurement.index, num_bin, weights=frequency_count_measurement.values, density=True, cumulative=True, histtype='step')\n",
    "plt.ylabel(\"CDF\")\n",
    "plt.xlabel(\"Samples per hectare\")\n",
    "\n",
    "\n",
    "plt.show()"
   ]
  },
  {
   "cell_type": "code",
   "execution_count": 13,
   "metadata": {
    "scrolled": true
   },
   "outputs": [
    {
     "data": {
      "image/png": "[encoded data removed]",
      "text/plain": [
       "<Figure size 432x288 with 1 Axes>"
      ]
     },
     "metadata": {
      "needs_background": "light"
     },
     "output_type": "display_data"
    }
   ],
   "source": [
    "num_bin = frequency_count_measurement.shape[0]\n",
    "fig, cdf_ax = plt.subplots()\n",
    "cdf_ax.hist(frequency_count_measurement.index, num_bin, weights=frequency_count_measurement.values, density=True, cumulative=True, histtype='step')\n",
    "plt.ylabel(\"CDF\")\n",
    "plt.xscale('log')\n",
    "plt.xlabel(\"Samples per hectare\")\n",
    "\n",
    "\n",
    "plt.show()"
   ]
  },
  {
   "cell_type": "markdown",
   "metadata": {},
   "source": [
    "# We see how this compares to the sample subset from the Hopi reservation."
   ]
  },
  {
   "cell_type": "code",
   "execution_count": 14,
   "metadata": {},
   "outputs": [
    {
     "data": {
      "image/png": "[encoded data removed]",
      "text/plain": [
       "<Figure size 432x288 with 1 Axes>"
      ]
     },
     "metadata": {
      "needs_background": "light"
     },
     "output_type": "display_data"
    }
   ],
   "source": [
    "fig, ax = plt.subplots()\n",
    "\n",
    "ax.set_aspect('equal')\n",
    "hopi.plot(ax=ax, color='red')\n",
    "skyhook_hopi.plot(ax=ax, markersize=1)\n",
    "plt.show()"
   ]
  },
  {
   "cell_type": "code",
   "execution_count": 15,
   "metadata": {},
   "outputs": [
    {
     "data": {
      "text/html": [
       "<div>\n",
       "<style scoped>\n",
       "    .dataframe tbody tr th:only-of-type {\n",
       "        vertical-align: middle;\n",
       "    }\n",
       "\n",
       "    .dataframe tbody tr th {\n",
       "        vertical-align: top;\n",
       "    }\n",
       "\n",
       "    .dataframe thead th {\n",
       "        text-align: right;\n",
       "    }\n",
       "</style>\n",
       "<table border=\"1\" class=\"dataframe\">\n",
       "  <thead>\n",
       "    <tr style=\"text-align: right;\">\n",
       "      <th></th>\n",
       "      <th>rq_time</th>\n",
       "    </tr>\n",
       "  </thead>\n",
       "  <tbody>\n",
       "    <tr>\n",
       "      <th>count</th>\n",
       "      <td>9403</td>\n",
       "    </tr>\n",
       "    <tr>\n",
       "      <th>mean</th>\n",
       "      <td>2020-10-16 12:15:57.448580096</td>\n",
       "    </tr>\n",
       "    <tr>\n",
       "      <th>min</th>\n",
       "      <td>2019-09-07 06:03:50</td>\n",
       "    </tr>\n",
       "    <tr>\n",
       "      <th>25%</th>\n",
       "      <td>2020-06-23 22:57:11</td>\n",
       "    </tr>\n",
       "    <tr>\n",
       "      <th>50%</th>\n",
       "      <td>2021-01-01 20:03:28</td>\n",
       "    </tr>\n",
       "    <tr>\n",
       "      <th>75%</th>\n",
       "      <td>2021-02-26 17:41:40</td>\n",
       "    </tr>\n",
       "    <tr>\n",
       "      <th>max</th>\n",
       "      <td>2021-03-07 23:38:58</td>\n",
       "    </tr>\n",
       "  </tbody>\n",
       "</table>\n",
       "</div>"
      ],
      "text/plain": [
       "                             rq_time\n",
       "count                           9403\n",
       "mean   2020-10-16 12:15:57.448580096\n",
       "min              2019-09-07 06:03:50\n",
       "25%              2020-06-23 22:57:11\n",
       "50%              2021-01-01 20:03:28\n",
       "75%              2021-02-26 17:41:40\n",
       "max              2021-03-07 23:38:58"
      ]
     },
     "execution_count": 15,
     "metadata": {},
     "output_type": "execute_result"
    }
   ],
   "source": [
    "skyhook_hopi[['rq_time']].describe(datetime_is_numeric=True)"
   ]
  },
  {
   "cell_type": "code",
   "execution_count": 16,
   "metadata": {},
   "outputs": [
    {
     "data": {
      "image/png": "[encoded data removed]",
      "text/plain": [
       "<Figure size 432x288 with 2 Axes>"
      ]
     },
     "metadata": {
      "needs_background": "light"
     },
     "output_type": "display_data"
    }
   ],
   "source": [
    "weekly_counts_hopi = skyhook_hopi.resample('7d', on='rq_time')['rq_time'].count()\n",
    "\n",
    "cdf_color = 'tab:red'\n",
    "hist_color = 'tab:blue'\n",
    "\n",
    "num_bin = weekly_counts_hopi.shape[0]\n",
    "fig, cdf_ax = plt.subplots()\n",
    "cdf_ax.hist(np.arange(0,num_bin), num_bin, weights=weekly_counts_hopi, density=True, cumulative=True, histtype='step', color=cdf_color)\n",
    "cdf_ax.tick_params(axis='y', labelcolor=cdf_color)\n",
    "plt.ylabel(\"Cumulative samples\")\n",
    "plt.xlabel(\"Week of sample (from 2019-09-07)\")\n",
    "\n",
    "hist_ax = cdf_ax.twinx()\n",
    "\n",
    "hist_ax.hist(np.arange(0,num_bin), num_bin, weights=weekly_counts_hopi, histtype='step', color=hist_color)\n",
    "hist_ax.tick_params(axis='y', labelcolor=hist_color)\n",
    "plt.ylabel(\"Number of samples\")\n",
    "plt.show()"
   ]
  },
  {
   "cell_type": "code",
   "execution_count": 17,
   "metadata": {},
   "outputs": [
    {
     "data": {
      "image/png": "[encoded data removed]",
      "text/plain": [
       "<Figure size 432x288 with 2 Axes>"
      ]
     },
     "metadata": {
      "needs_background": "light"
     },
     "output_type": "display_data"
    }
   ],
   "source": [
    "\n",
    "daily_counts_hopi = skyhook_hopi.resample('1d', on='rq_time')['rq_time'].count()\n",
    "\n",
    "cdf_color = 'tab:red'\n",
    "hist_color = 'tab:blue'\n",
    "\n",
    "num_bin = daily_counts_hopi.shape[0]\n",
    "fig, cdf_ax = plt.subplots()\n",
    "cdf_ax.hist(np.arange(0,num_bin), num_bin, weights=daily_counts_hopi, density=True, cumulative=True, histtype='step', color=cdf_color)\n",
    "cdf_ax.tick_params(axis='y', labelcolor=cdf_color)\n",
    "plt.ylabel(\"Cumulative samples\")\n",
    "plt.xlabel(\"Day of sample (from 2019-09-07)\")\n",
    "\n",
    "hist_ax = cdf_ax.twinx()\n",
    "\n",
    "hist_ax.hist(np.arange(0,num_bin), num_bin, weights=daily_counts_hopi, histtype='step', color=hist_color)\n",
    "hist_ax.tick_params(axis='y', labelcolor=hist_color)\n",
    "plt.ylabel(\"Number of samples\")\n",
    "plt.show()"
   ]
  },
  {
   "cell_type": "code",
   "execution_count": 18,
   "metadata": {},
   "outputs": [
    {
     "data": {
      "text/plain": [
       "count    1521.000000\n",
       "mean        6.182117\n",
       "std        15.455338\n",
       "min         1.000000\n",
       "25%         1.000000\n",
       "50%         2.000000\n",
       "75%         5.000000\n",
       "max       258.000000\n",
       "Name: tide5id_100m, dtype: float64"
      ]
     },
     "execution_count": 18,
     "metadata": {},
     "output_type": "execute_result"
    }
   ],
   "source": [
    "area_data_hopi = skyhook_hopi['tide5id_100m'].groupby(skyhook_hopi['tide5id_100m']).count().sort_values()\n",
    "frequency_count_measurement_hopi = area_data_hopi.groupby(area_data_hopi).count()\n",
    "\n",
    "area_data_hopi.describe()"
   ]
  },
  {
   "cell_type": "markdown",
   "metadata": {},
   "source": [
    "We see that we have a significantly lower mean and max number of samples per area in the Hopi reservation than in the global sample data."
   ]
  },
  {
   "cell_type": "code",
   "execution_count": 19,
   "metadata": {},
   "outputs": [
    {
     "data": {
      "text/plain": [
       "count     60.000000\n",
       "mean      25.350000\n",
       "std       86.179518\n",
       "min        1.000000\n",
       "25%        1.000000\n",
       "50%        3.500000\n",
       "75%        9.000000\n",
       "max      600.000000\n",
       "Name: tide5id_100m, dtype: float64"
      ]
     },
     "execution_count": 19,
     "metadata": {},
     "output_type": "execute_result"
    }
   ],
   "source": [
    "frequency_count_measurement_hopi.describe()"
   ]
  },
  {
   "cell_type": "markdown",
   "metadata": {},
   "source": [
    "Creating a CDF of non-empty tiles"
   ]
  },
  {
   "cell_type": "code",
   "execution_count": 20,
   "metadata": {
    "scrolled": true
   },
   "outputs": [
    {
     "data": {
      "image/png": "[encoded data removed]",
      "text/plain": [
       "<Figure size 432x288 with 1 Axes>"
      ]
     },
     "metadata": {
      "needs_background": "light"
     },
     "output_type": "display_data"
    }
   ],
   "source": [
    "num_bin_hopi = frequency_count_measurement_hopi.shape[0]\n",
    "fig, cdf_ax = plt.subplots()\n",
    "cdf_ax.hist(frequency_count_measurement_hopi.index, num_bin_hopi, weights=frequency_count_measurement_hopi.values, density=True, cumulative=True, histtype='step')\n",
    "plt.ylabel(\"CDF\")\n",
    "plt.xlabel(\"Samples per hectare\")\n",
    "\n",
    "\n",
    "plt.show()"
   ]
  },
  {
   "cell_type": "code",
   "execution_count": 21,
   "metadata": {
    "scrolled": true
   },
   "outputs": [
    {
     "data": {
      "image/png": "[encoded data removed]",
      "text/plain": [
       "<Figure size 432x288 with 1 Axes>"
      ]
     },
     "metadata": {
      "needs_background": "light"
     },
     "output_type": "display_data"
    }
   ],
   "source": [
    "fig, cdf_ax = plt.subplots()\n",
    "cdf_ax.hist(frequency_count_measurement_hopi.index, num_bin_hopi, weights=frequency_count_measurement_hopi.values, density=True, cumulative=True, histtype='step')\n",
    "plt.ylabel(\"CDF\")\n",
    "plt.xscale('log')\n",
    "plt.xlabel(\"Samples per hectare\")\n",
    "\n",
    "\n",
    "plt.show()"
   ]
  },
  {
   "cell_type": "markdown",
   "metadata": {},
   "source": [
    "Unfortunately we can not derive empty tiles from this method because of the arbitrary nature of the tile IDs, so we will calculate the approximate proportion by finding our total measurement area and subtracting the area which contains measurements from our data set."
   ]
  },
  {
   "cell_type": "code",
   "execution_count": 35,
   "metadata": {},
   "outputs": [
    {
     "data": {
      "text/plain": [
       "0.014332203869937271"
      ]
     },
     "execution_count": 35,
     "metadata": {},
     "output_type": "execute_result"
    }
   ],
   "source": [
    "hopi_area = hopi['geometry'].to_crs({'proj':'cea'}).area/ 10**4\n",
    "hopi_area = hopi_area.sum()\n",
    "\n",
    "\n",
    "area_data_hopi.sum()/hopi_area"
   ]
  },
  {
   "cell_type": "markdown",
   "metadata": {},
   "source": [
    "Thus approximately only 1.4% of the Skyhook hectare tiles within the Hopi reservation have any signals recorded."
   ]
  },
  {
   "cell_type": "code",
   "execution_count": 22,
   "metadata": {},
   "outputs": [],
   "source": [
    "unique_ouis = skyhook_data['mac_oui'].drop_duplicates()"
   ]
  },
  {
   "cell_type": "code",
   "execution_count": 23,
   "metadata": {},
   "outputs": [
    {
     "data": {
      "text/plain": [
       "count     1291723\n",
       "unique     422038\n",
       "top        0080AE\n",
       "freq        12792\n",
       "Name: mac_oui, dtype: object"
      ]
     },
     "execution_count": 23,
     "metadata": {},
     "output_type": "execute_result"
    }
   ],
   "source": [
    "skyhook_data['mac_oui'].describe()"
   ]
  },
  {
   "cell_type": "code",
   "execution_count": 37,
   "metadata": {
    "tags": []
   },
   "outputs": [
    {
     "data": {
      "text/html": [
       "<div>\n",
       "<style scoped>\n",
       "    .dataframe tbody tr th:only-of-type {\n",
       "        vertical-align: middle;\n",
       "    }\n",
       "\n",
       "    .dataframe tbody tr th {\n",
       "        vertical-align: top;\n",
       "    }\n",
       "\n",
       "    .dataframe thead th {\n",
       "        text-align: right;\n",
       "    }\n",
       "</style>\n",
       "<table border=\"1\" class=\"dataframe\">\n",
       "  <thead>\n",
       "    <tr style=\"text-align: right;\">\n",
       "      <th></th>\n",
       "      <th>tide5id_100m</th>\n",
       "      <th>mac_oui</th>\n",
       "      <th>ssid</th>\n",
       "      <th>lat</th>\n",
       "      <th>lon</th>\n",
       "      <th>rq_time</th>\n",
       "      <th>zcta</th>\n",
       "      <th>zcta_city</th>\n",
       "      <th>zcta_county</th>\n",
       "      <th>zcta_state</th>\n",
       "      <th>geometry</th>\n",
       "    </tr>\n",
       "  </thead>\n",
       "  <tbody>\n",
       "    <tr>\n",
       "      <th>0</th>\n",
       "      <td>B00C1D205</td>\n",
       "      <td>AE88FD</td>\n",
       "      <td>NaN</td>\n",
       "      <td>35.189023</td>\n",
       "      <td>-111.654981</td>\n",
       "      <td>2019-10-03 19:31:54</td>\n",
       "      <td>86011</td>\n",
       "      <td>Flagstaff</td>\n",
       "      <td>Coconino</td>\n",
       "      <td>AZ</td>\n",
       "      <td>POINT (-111.65498 35.18902)</td>\n",
       "    </tr>\n",
       "    <tr>\n",
       "      <th>1</th>\n",
       "      <td>B00C1EFBD</td>\n",
       "      <td>AED818</td>\n",
       "      <td>NaN</td>\n",
       "      <td>35.245249</td>\n",
       "      <td>-111.564899</td>\n",
       "      <td>2020-02-07 14:23:53</td>\n",
       "      <td>86004</td>\n",
       "      <td>Flagstaff</td>\n",
       "      <td>Coconino</td>\n",
       "      <td>AZ</td>\n",
       "      <td>POINT (-111.56490 35.24525)</td>\n",
       "    </tr>\n",
       "    <tr>\n",
       "      <th>2</th>\n",
       "      <td>B00E15905</td>\n",
       "      <td>98415C</td>\n",
       "      <td>NaN</td>\n",
       "      <td>35.095134</td>\n",
       "      <td>-109.670705</td>\n",
       "      <td>2020-04-14 16:34:51</td>\n",
       "      <td>86502</td>\n",
       "      <td>Chambers</td>\n",
       "      <td>Apache</td>\n",
       "      <td>AZ</td>\n",
       "      <td>POINT (-109.67071 35.09513)</td>\n",
       "    </tr>\n",
       "    <tr>\n",
       "      <th>3</th>\n",
       "      <td>B00C1D29F</td>\n",
       "      <td>921B2D</td>\n",
       "      <td>NaN</td>\n",
       "      <td>35.198395</td>\n",
       "      <td>-111.648860</td>\n",
       "      <td>2019-10-20 20:20:37</td>\n",
       "      <td>86001</td>\n",
       "      <td>Flagstaff</td>\n",
       "      <td>Coconino</td>\n",
       "      <td>AZ</td>\n",
       "      <td>POINT (-111.64886 35.19840)</td>\n",
       "    </tr>\n",
       "    <tr>\n",
       "      <th>4</th>\n",
       "      <td>B00C1D32B</td>\n",
       "      <td>9245BA</td>\n",
       "      <td>NaN</td>\n",
       "      <td>35.190278</td>\n",
       "      <td>-111.629299</td>\n",
       "      <td>2019-10-17 01:14:02</td>\n",
       "      <td>86001</td>\n",
       "      <td>Flagstaff</td>\n",
       "      <td>Coconino</td>\n",
       "      <td>AZ</td>\n",
       "      <td>POINT (-111.62930 35.19028)</td>\n",
       "    </tr>\n",
       "    <tr>\n",
       "      <th>...</th>\n",
       "      <td>...</td>\n",
       "      <td>...</td>\n",
       "      <td>...</td>\n",
       "      <td>...</td>\n",
       "      <td>...</td>\n",
       "      <td>...</td>\n",
       "      <td>...</td>\n",
       "      <td>...</td>\n",
       "      <td>...</td>\n",
       "      <td>...</td>\n",
       "      <td>...</td>\n",
       "    </tr>\n",
       "    <tr>\n",
       "      <th>1291718</th>\n",
       "      <td>B17331F15</td>\n",
       "      <td>C26CD4</td>\n",
       "      <td>NaN</td>\n",
       "      <td>36.048597</td>\n",
       "      <td>-112.135089</td>\n",
       "      <td>2020-07-28 07:07:20</td>\n",
       "      <td>86023</td>\n",
       "      <td>Grand Canyon</td>\n",
       "      <td>Coconino</td>\n",
       "      <td>AZ</td>\n",
       "      <td>POINT (-112.13509 36.04860)</td>\n",
       "    </tr>\n",
       "    <tr>\n",
       "      <th>1291719</th>\n",
       "      <td>AEA53F23F</td>\n",
       "      <td>42490F</td>\n",
       "      <td>DIRECT-58-HP M426 LaserJet</td>\n",
       "      <td>34.190584</td>\n",
       "      <td>-110.016098</td>\n",
       "      <td>2021-03-04 22:16:13</td>\n",
       "      <td>85929</td>\n",
       "      <td>Lakeside</td>\n",
       "      <td>Navajo</td>\n",
       "      <td>AZ</td>\n",
       "      <td>POINT (-110.01610 34.19058)</td>\n",
       "    </tr>\n",
       "    <tr>\n",
       "      <th>1291720</th>\n",
       "      <td>B00C1E544</td>\n",
       "      <td>0A79EB</td>\n",
       "      <td>NaN</td>\n",
       "      <td>35.208758</td>\n",
       "      <td>-111.608667</td>\n",
       "      <td>2021-01-02 20:19:41</td>\n",
       "      <td>86004</td>\n",
       "      <td>Flagstaff</td>\n",
       "      <td>Coconino</td>\n",
       "      <td>AZ</td>\n",
       "      <td>POINT (-111.60867 35.20876)</td>\n",
       "    </tr>\n",
       "    <tr>\n",
       "      <th>1291721</th>\n",
       "      <td>AEA643A89</td>\n",
       "      <td>0A80AE</td>\n",
       "      <td>NaN</td>\n",
       "      <td>34.291875</td>\n",
       "      <td>-109.779849</td>\n",
       "      <td>2021-02-27 17:25:50</td>\n",
       "      <td>85940</td>\n",
       "      <td>Vernon</td>\n",
       "      <td>Apache</td>\n",
       "      <td>AZ</td>\n",
       "      <td>POINT (-109.77985 34.29187)</td>\n",
       "    </tr>\n",
       "    <tr>\n",
       "      <th>1291722</th>\n",
       "      <td>B00C2C433</td>\n",
       "      <td>0ADB66</td>\n",
       "      <td>NaN</td>\n",
       "      <td>35.203481</td>\n",
       "      <td>-111.485177</td>\n",
       "      <td>2020-08-12 17:10:54</td>\n",
       "      <td>86004</td>\n",
       "      <td>Flagstaff</td>\n",
       "      <td>Coconino</td>\n",
       "      <td>AZ</td>\n",
       "      <td>POINT (-111.48518 35.20348)</td>\n",
       "    </tr>\n",
       "  </tbody>\n",
       "</table>\n",
       "<p>1291723 rows × 11 columns</p>\n",
       "</div>"
      ],
      "text/plain": [
       "        tide5id_100m mac_oui                        ssid        lat  \\\n",
       "0          B00C1D205  AE88FD                         NaN  35.189023   \n",
       "1          B00C1EFBD  AED818                         NaN  35.245249   \n",
       "2          B00E15905  98415C                         NaN  35.095134   \n",
       "3          B00C1D29F  921B2D                         NaN  35.198395   \n",
       "4          B00C1D32B  9245BA                         NaN  35.190278   \n",
       "...              ...     ...                         ...        ...   \n",
       "1291718    B17331F15  C26CD4                         NaN  36.048597   \n",
       "1291719    AEA53F23F  42490F  DIRECT-58-HP M426 LaserJet  34.190584   \n",
       "1291720    B00C1E544  0A79EB                         NaN  35.208758   \n",
       "1291721    AEA643A89  0A80AE                         NaN  34.291875   \n",
       "1291722    B00C2C433  0ADB66                         NaN  35.203481   \n",
       "\n",
       "                lon             rq_time   zcta     zcta_city zcta_county  \\\n",
       "0       -111.654981 2019-10-03 19:31:54  86011     Flagstaff    Coconino   \n",
       "1       -111.564899 2020-02-07 14:23:53  86004     Flagstaff    Coconino   \n",
       "2       -109.670705 2020-04-14 16:34:51  86502      Chambers      Apache   \n",
       "3       -111.648860 2019-10-20 20:20:37  86001     Flagstaff    Coconino   \n",
       "4       -111.629299 2019-10-17 01:14:02  86001     Flagstaff    Coconino   \n",
       "...             ...                 ...    ...           ...         ...   \n",
       "1291718 -112.135089 2020-07-28 07:07:20  86023  Grand Canyon    Coconino   \n",
       "1291719 -110.016098 2021-03-04 22:16:13  85929      Lakeside      Navajo   \n",
       "1291720 -111.608667 2021-01-02 20:19:41  86004     Flagstaff    Coconino   \n",
       "1291721 -109.779849 2021-02-27 17:25:50  85940        Vernon      Apache   \n",
       "1291722 -111.485177 2020-08-12 17:10:54  86004     Flagstaff    Coconino   \n",
       "\n",
       "        zcta_state                     geometry  \n",
       "0               AZ  POINT (-111.65498 35.18902)  \n",
       "1               AZ  POINT (-111.56490 35.24525)  \n",
       "2               AZ  POINT (-109.67071 35.09513)  \n",
       "3               AZ  POINT (-111.64886 35.19840)  \n",
       "4               AZ  POINT (-111.62930 35.19028)  \n",
       "...            ...                          ...  \n",
       "1291718         AZ  POINT (-112.13509 36.04860)  \n",
       "1291719         AZ  POINT (-110.01610 34.19058)  \n",
       "1291720         AZ  POINT (-111.60867 35.20876)  \n",
       "1291721         AZ  POINT (-109.77985 34.29187)  \n",
       "1291722         AZ  POINT (-111.48518 35.20348)  \n",
       "\n",
       "[1291723 rows x 11 columns]"
      ]
     },
     "execution_count": 37,
     "metadata": {},
     "output_type": "execute_result"
    }
   ],
   "source": [
    "# this code should collect counts of OUI/week pairs, however the runtime is very long so I'm unsure it's functioning correctly.\n",
    "# oui_daily_counts = skyhook_data.groupby('mac_oui').resample('7d', on='rq_time')['rq_time'].count()\n",
    "\n",
    "skyhook_data"
   ]
  },
  {
   "cell_type": "code",
   "execution_count": 84,
   "metadata": {},
   "outputs": [],
   "source": [
    "# weeks 0 - 70 proportion of OUIs vs weeks 70 - end proportion of OUIs\n",
    "skyhook_time_sorted = skyhook_data.sort_values(by='rq_time')\n",
    "skyhook_time_index = skyhook_time_sorted.set_index('rq_time')\n",
    "first = skyhook_time_sorted['rq_time'].iloc[0]\n",
    "last = skyhook_time_sorted['rq_time'].iloc[-1]\n",
    "delta = last-first\n",
    "# aribitrarily selected\n",
    "proportion = 70/80\n",
    "proportion_delta = delta * proportion"
   ]
  },
  {
   "cell_type": "code",
   "execution_count": 89,
   "metadata": {},
   "outputs": [],
   "source": [
    "early_samples = skyhook_time_index[first:first+proportion_delta]\n",
    "late_samples = skyhook_time_index[first+proportion_delta:last]"
   ]
  },
  {
   "cell_type": "code",
   "execution_count": 90,
   "metadata": {},
   "outputs": [
    {
     "data": {
      "text/plain": [
       "count     755287\n",
       "unique    377746\n",
       "top       0A80AE\n",
       "freq        4335\n",
       "Name: mac_oui, dtype: object"
      ]
     },
     "execution_count": 90,
     "metadata": {},
     "output_type": "execute_result"
    }
   ],
   "source": [
    "early_samples['mac_oui'].describe()"
   ]
  },
  {
   "cell_type": "code",
   "execution_count": 91,
   "metadata": {},
   "outputs": [
    {
     "data": {
      "text/plain": [
       "count     536436\n",
       "unique     53850\n",
       "top       0080AE\n",
       "freq        8520\n",
       "Name: mac_oui, dtype: object"
      ]
     },
     "execution_count": 91,
     "metadata": {},
     "output_type": "execute_result"
    }
   ],
   "source": [
    "late_samples['mac_oui'].describe()"
   ]
  },
  {
   "cell_type": "markdown",
   "metadata": {},
   "source": [
    "We observe a much higher proportion of unique OUIs in the early samples than the late, with nearly half of them being unique, while in the late samples only 1/10 are unique."
   ]
  }
 ],
 "metadata": {
  "kernelspec": {
   "display_name": "geopandas-conda-env",
   "language": "python",
   "name": "auto_geopandas"
  },
  "language_info": {
   "codemirror_mode": {
    "name": "ipython",
    "version": 3
   },
   "file_extension": ".py",
   "mimetype": "text/x-python",
   "name": "python",
   "nbconvert_exporter": "python",
   "pygments_lexer": "ipython3",
   "version": "3.8.2"
  },
  "metadata": {
   "interpreter": {
    "hash": "916dbcbb3f70747c44a77c7bcd40155683ae19c65e1c03b4aa3499c5328201f1"
   }
  }
 },
 "nbformat": 4,
 "nbformat_minor": 2
}
