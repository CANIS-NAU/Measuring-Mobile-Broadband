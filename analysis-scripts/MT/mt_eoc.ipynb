{
 "cells": [
  {
   "cell_type": "code",
   "execution_count": 1,
   "metadata": {},
   "outputs": [],
   "source": [
    "import pandas as pd\n",
    "import geopandas as gd\n",
    "import numpy as np\n",
    "import matplotlib.pyplot as plt\n",
    "from datetime import datetime\n",
    "import os\n",
    "import seaborn as sn"
   ]
  },
  {
   "cell_type": "code",
   "execution_count": 2,
   "metadata": {},
   "outputs": [],
   "source": [
    "os.chdir('/projects/canis/eoc_feature_corr')"
   ]
  },
  {
   "cell_type": "code",
   "execution_count": 3,
   "metadata": {},
   "outputs": [],
   "source": [
    "grid_path = \"data/by_state/MT/mt_extent_1km_grid.shp\"\n",
    "original_grid = gd.read_file(grid_path)\n",
    "original_grid = original_grid.set_index('id')\n",
    "grid = original_grid"
   ]
  },
  {
   "cell_type": "code",
   "execution_count": 4,
   "metadata": {},
   "outputs": [],
   "source": [
    "chg_path = \"data/challenger_speed_tests/chg_30_entity_15884_challenger_speed_tests_valid_certified.csv\"\n",
    "chg_data = pd.read_csv(chg_path, parse_dates=['timestamp'])\n",
    "chg = gd.GeoDataFrame(chg_data, geometry=gd.points_from_xy(chg_data.longitude, chg_data.latitude)).set_crs(\"EPSG:4326\").to_crs(grid.crs)"
   ]
  },
  {
   "cell_type": "code",
   "execution_count": 5,
   "metadata": {},
   "outputs": [
    {
     "data": {
      "text/html": [
       "<div>\n",
       "<style scoped>\n",
       "    .dataframe tbody tr th:only-of-type {\n",
       "        vertical-align: middle;\n",
       "    }\n",
       "\n",
       "    .dataframe tbody tr th {\n",
       "        vertical-align: top;\n",
       "    }\n",
       "\n",
       "    .dataframe thead th {\n",
       "        text-align: right;\n",
       "    }\n",
       "</style>\n",
       "<table border=\"1\" class=\"dataframe\">\n",
       "  <thead>\n",
       "    <tr style=\"text-align: right;\">\n",
       "      <th></th>\n",
       "      <th>latitude</th>\n",
       "      <th>longitude</th>\n",
       "      <th>timestamp</th>\n",
       "      <th>signal_strength</th>\n",
       "      <th>download_speed</th>\n",
       "      <th>latency</th>\n",
       "      <th>provider_id</th>\n",
       "      <th>provider_name</th>\n",
       "      <th>device_id</th>\n",
       "      <th>masked_device_imei</th>\n",
       "      <th>measurement_method_code</th>\n",
       "      <th>measurement_app_name</th>\n",
       "      <th>measurement_server_location</th>\n",
       "      <th>masked_entity_id</th>\n",
       "      <th>state_fips</th>\n",
       "      <th>grid_col</th>\n",
       "      <th>grid_row</th>\n",
       "      <th>geometry</th>\n",
       "    </tr>\n",
       "  </thead>\n",
       "  <tbody>\n",
       "  </tbody>\n",
       "</table>\n",
       "</div>"
      ],
      "text/plain": [
       "Empty GeoDataFrame\n",
       "Columns: [latitude, longitude, timestamp, signal_strength, download_speed, latency, provider_id, provider_name, device_id, masked_device_imei, measurement_method_code, measurement_app_name, measurement_server_location, masked_entity_id, state_fips, grid_col, grid_row, geometry]\n",
       "Index: []"
      ]
     },
     "execution_count": 5,
     "metadata": {},
     "output_type": "execute_result"
    }
   ],
   "source": [
    "chg[chg['provider_name'] == 'Verizon Wireless']"
   ]
  },
  {
   "cell_type": "code",
   "execution_count": 6,
   "metadata": {},
   "outputs": [
    {
     "data": {
      "text/html": [
       "<div>\n",
       "<style scoped>\n",
       "    .dataframe tbody tr th:only-of-type {\n",
       "        vertical-align: middle;\n",
       "    }\n",
       "\n",
       "    .dataframe tbody tr th {\n",
       "        vertical-align: top;\n",
       "    }\n",
       "\n",
       "    .dataframe thead th {\n",
       "        text-align: right;\n",
       "    }\n",
       "</style>\n",
       "<table border=\"1\" class=\"dataframe\">\n",
       "  <thead>\n",
       "    <tr style=\"text-align: right;\">\n",
       "      <th></th>\n",
       "      <th>latitude</th>\n",
       "      <th>longitude</th>\n",
       "      <th>timestamp</th>\n",
       "      <th>signal_strength</th>\n",
       "      <th>download_speed</th>\n",
       "      <th>latency</th>\n",
       "      <th>provider_id</th>\n",
       "      <th>device_id</th>\n",
       "      <th>masked_device_imei</th>\n",
       "      <th>measurement_method_code</th>\n",
       "      <th>measurement_app_name</th>\n",
       "      <th>measurement_server_location</th>\n",
       "      <th>masked_entity_id</th>\n",
       "      <th>state_fips</th>\n",
       "      <th>grid_col</th>\n",
       "      <th>grid_row</th>\n",
       "      <th>geometry</th>\n",
       "    </tr>\n",
       "    <tr>\n",
       "      <th>provider_name</th>\n",
       "      <th></th>\n",
       "      <th></th>\n",
       "      <th></th>\n",
       "      <th></th>\n",
       "      <th></th>\n",
       "      <th></th>\n",
       "      <th></th>\n",
       "      <th></th>\n",
       "      <th></th>\n",
       "      <th></th>\n",
       "      <th></th>\n",
       "      <th></th>\n",
       "      <th></th>\n",
       "      <th></th>\n",
       "      <th></th>\n",
       "      <th></th>\n",
       "      <th></th>\n",
       "    </tr>\n",
       "  </thead>\n",
       "  <tbody>\n",
       "    <tr>\n",
       "      <th>AT&amp;T</th>\n",
       "      <td>232624</td>\n",
       "      <td>232624</td>\n",
       "      <td>232624</td>\n",
       "      <td>232624</td>\n",
       "      <td>232624</td>\n",
       "      <td>232624</td>\n",
       "      <td>232624</td>\n",
       "      <td>232624</td>\n",
       "      <td>232624</td>\n",
       "      <td>232624</td>\n",
       "      <td>232624</td>\n",
       "      <td>232624</td>\n",
       "      <td>232624</td>\n",
       "      <td>232624</td>\n",
       "      <td>232624</td>\n",
       "      <td>232624</td>\n",
       "      <td>232624</td>\n",
       "    </tr>\n",
       "    <tr>\n",
       "      <th>T-Mobile</th>\n",
       "      <td>232105</td>\n",
       "      <td>232105</td>\n",
       "      <td>232105</td>\n",
       "      <td>232105</td>\n",
       "      <td>232105</td>\n",
       "      <td>232105</td>\n",
       "      <td>232105</td>\n",
       "      <td>232105</td>\n",
       "      <td>232105</td>\n",
       "      <td>232105</td>\n",
       "      <td>232105</td>\n",
       "      <td>232105</td>\n",
       "      <td>232105</td>\n",
       "      <td>232105</td>\n",
       "      <td>232105</td>\n",
       "      <td>232105</td>\n",
       "      <td>232105</td>\n",
       "    </tr>\n",
       "    <tr>\n",
       "      <th>Verizon</th>\n",
       "      <td>739564</td>\n",
       "      <td>739564</td>\n",
       "      <td>739564</td>\n",
       "      <td>739564</td>\n",
       "      <td>739564</td>\n",
       "      <td>739564</td>\n",
       "      <td>739564</td>\n",
       "      <td>739564</td>\n",
       "      <td>739564</td>\n",
       "      <td>739564</td>\n",
       "      <td>739564</td>\n",
       "      <td>739564</td>\n",
       "      <td>739564</td>\n",
       "      <td>739564</td>\n",
       "      <td>739564</td>\n",
       "      <td>739564</td>\n",
       "      <td>739564</td>\n",
       "    </tr>\n",
       "  </tbody>\n",
       "</table>\n",
       "</div>"
      ],
      "text/plain": [
       "               latitude  longitude  timestamp  signal_strength  \\\n",
       "provider_name                                                    \n",
       "AT&T             232624     232624     232624           232624   \n",
       "T-Mobile         232105     232105     232105           232105   \n",
       "Verizon          739564     739564     739564           739564   \n",
       "\n",
       "               download_speed  latency  provider_id  device_id  \\\n",
       "provider_name                                                    \n",
       "AT&T                   232624   232624       232624     232624   \n",
       "T-Mobile               232105   232105       232105     232105   \n",
       "Verizon                739564   739564       739564     739564   \n",
       "\n",
       "               masked_device_imei  measurement_method_code  \\\n",
       "provider_name                                                \n",
       "AT&T                       232624                   232624   \n",
       "T-Mobile                   232105                   232105   \n",
       "Verizon                    739564                   739564   \n",
       "\n",
       "               measurement_app_name  measurement_server_location  \\\n",
       "provider_name                                                      \n",
       "AT&T                         232624                       232624   \n",
       "T-Mobile                     232105                       232105   \n",
       "Verizon                      739564                       739564   \n",
       "\n",
       "               masked_entity_id  state_fips  grid_col  grid_row  geometry  \n",
       "provider_name                                                              \n",
       "AT&T                     232624      232624    232624    232624    232624  \n",
       "T-Mobile                 232105      232105    232105    232105    232105  \n",
       "Verizon                  739564      739564    739564    739564    739564  "
      ]
     },
     "execution_count": 6,
     "metadata": {},
     "output_type": "execute_result"
    }
   ],
   "source": [
    "chg.groupby('provider_name').count()"
   ]
  },
  {
   "cell_type": "code",
   "execution_count": 7,
   "metadata": {},
   "outputs": [],
   "source": [
    "verizon_path = \"data/by_state/MT/mt_extent_verizon.shp\"\n",
    "verizon = gd.read_file(verizon_path).to_crs(grid.crs)"
   ]
  },
  {
   "cell_type": "code",
   "execution_count": 8,
   "metadata": {},
   "outputs": [
    {
     "data": {
      "text/plain": [
       "<AxesSubplot:>"
      ]
     },
     "execution_count": 8,
     "metadata": {},
     "output_type": "execute_result"
    },
    {
     "data": {
      "image/png": "[encoded data removed]",
      "text/plain": [
       "<Figure size 432x288 with 1 Axes>"
      ]
     },
     "metadata": {
      "needs_background": "light"
     },
     "output_type": "display_data"
    }
   ],
   "source": [
    "verizon.plot()"
   ]
  },
  {
   "cell_type": "code",
   "execution_count": 9,
   "metadata": {},
   "outputs": [],
   "source": [
    "# 0 is no signal strength, and in future calculations we consider \n",
    "# -120 signal strength to be no signal. As we use median power \n",
    "# the impacts to the mean this causes do not matter.\n",
    "chg['signal_strength'] = chg['signal_strength'].replace(0,-120)"
   ]
  },
  {
   "cell_type": "code",
   "execution_count": 10,
   "metadata": {},
   "outputs": [],
   "source": [
    "# this lables every point with a grid ID, collecting the grid IDs\n",
    "# that have extant measurements\n",
    "chg_grid = gd.sjoin(chg, grid, how='left', op='within')"
   ]
  },
  {
   "cell_type": "code",
   "execution_count": 11,
   "metadata": {},
   "outputs": [
    {
     "data": {
      "text/plain": [
       "index_right\n",
       "585.0      -120.0\n",
       "586.0      -120.0\n",
       "1235.0     -120.0\n",
       "1889.0     -120.0\n",
       "1895.0     -120.0\n",
       "            ...  \n",
       "428560.0   -120.0\n",
       "428561.0   -120.0\n",
       "428562.0   -120.0\n",
       "428563.0   -105.0\n",
       "428564.0   -120.0\n",
       "Name: signal_strength, Length: 11898, dtype: float64"
      ]
     },
     "execution_count": 11,
     "metadata": {},
     "output_type": "execute_result"
    }
   ],
   "source": [
    "chg_grid.groupby('index_right').median()['signal_strength']"
   ]
  },
  {
   "cell_type": "code",
   "execution_count": 12,
   "metadata": {},
   "outputs": [],
   "source": [
    "grid['med_rxpwr'] = chg_grid.groupby('index_right').median()['signal_strength']\n",
    "grid = grid.dropna()"
   ]
  },
  {
   "cell_type": "code",
   "execution_count": 13,
   "metadata": {
    "scrolled": true
   },
   "outputs": [
    {
     "name": "stderr",
     "output_type": "stream",
     "text": [
      "<ipython-input-13-702a72e62e09>:1: UserWarning: Geometry is in a geographic CRS. Results from 'centroid' are likely incorrect. Use 'GeoSeries.to_crs()' to re-project geometries to a projected CRS before this operation.\n",
      "\n",
      "  original_grid['centroid'] = original_grid['geometry'].centroid\n"
     ]
    }
   ],
   "source": [
    "original_grid['centroid'] = original_grid['geometry'].centroid\n",
    "original_grid = original_grid.set_geometry('centroid')\n",
    "fcc_grid = gd.sjoin(original_grid, verizon, how=\"left\", op=\"within\").dropna()\n",
    "original_grid = original_grid.set_geometry('geometry')\n",
    "original_grid = original_grid.drop('centroid', axis=1)"
   ]
  },
  {
   "cell_type": "code",
   "execution_count": 14,
   "metadata": {},
   "outputs": [],
   "source": [
    "grid['chg_coverage'] = grid['med_rxpwr'] > -110\n",
    "grid['verizon_coverage'] = grid.index.isin(fcc_grid.index)"
   ]
  },
  {
   "cell_type": "code",
   "execution_count": 15,
   "metadata": {},
   "outputs": [],
   "source": [
    "grid.to_file(\"./data/by_state/MT/mt_extent_coverage.shp\")"
   ]
  },
  {
   "cell_type": "code",
   "execution_count": 16,
   "metadata": {},
   "outputs": [
    {
     "data": {
      "text/html": [
       "<div>\n",
       "<style scoped>\n",
       "    .dataframe tbody tr th:only-of-type {\n",
       "        vertical-align: middle;\n",
       "    }\n",
       "\n",
       "    .dataframe tbody tr th {\n",
       "        vertical-align: top;\n",
       "    }\n",
       "\n",
       "    .dataframe thead th {\n",
       "        text-align: right;\n",
       "    }\n",
       "</style>\n",
       "<table border=\"1\" class=\"dataframe\">\n",
       "  <thead>\n",
       "    <tr style=\"text-align: right;\">\n",
       "      <th></th>\n",
       "      <th>left</th>\n",
       "      <th>top</th>\n",
       "      <th>right</th>\n",
       "      <th>bottom</th>\n",
       "      <th>geometry</th>\n",
       "      <th>med_rxpwr</th>\n",
       "      <th>chg_coverage</th>\n",
       "      <th>verizon_coverage</th>\n",
       "    </tr>\n",
       "    <tr>\n",
       "      <th>id</th>\n",
       "      <th></th>\n",
       "      <th></th>\n",
       "      <th></th>\n",
       "      <th></th>\n",
       "      <th></th>\n",
       "      <th></th>\n",
       "      <th></th>\n",
       "      <th></th>\n",
       "    </tr>\n",
       "  </thead>\n",
       "  <tbody>\n",
       "    <tr>\n",
       "      <th>585.0</th>\n",
       "      <td>-1.223775e+07</td>\n",
       "      <td>5.690753e+06</td>\n",
       "      <td>-1.223675e+07</td>\n",
       "      <td>5.689753e+06</td>\n",
       "      <td>POLYGON ((-109.93360 45.43807, -109.92462 45.4...</td>\n",
       "      <td>-120.0</td>\n",
       "      <td>False</td>\n",
       "      <td>False</td>\n",
       "    </tr>\n",
       "    <tr>\n",
       "      <th>586.0</th>\n",
       "      <td>-1.223775e+07</td>\n",
       "      <td>5.689753e+06</td>\n",
       "      <td>-1.223675e+07</td>\n",
       "      <td>5.688753e+06</td>\n",
       "      <td>POLYGON ((-109.93360 45.43177, -109.92462 45.4...</td>\n",
       "      <td>-120.0</td>\n",
       "      <td>False</td>\n",
       "      <td>True</td>\n",
       "    </tr>\n",
       "    <tr>\n",
       "      <th>1235.0</th>\n",
       "      <td>-1.223675e+07</td>\n",
       "      <td>5.694753e+06</td>\n",
       "      <td>-1.223575e+07</td>\n",
       "      <td>5.693753e+06</td>\n",
       "      <td>POLYGON ((-109.92462 45.46328, -109.91563 45.4...</td>\n",
       "      <td>-120.0</td>\n",
       "      <td>False</td>\n",
       "      <td>False</td>\n",
       "    </tr>\n",
       "    <tr>\n",
       "      <th>1889.0</th>\n",
       "      <td>-1.223575e+07</td>\n",
       "      <td>5.694753e+06</td>\n",
       "      <td>-1.223475e+07</td>\n",
       "      <td>5.693753e+06</td>\n",
       "      <td>POLYGON ((-109.91563 45.46328, -109.90665 45.4...</td>\n",
       "      <td>-120.0</td>\n",
       "      <td>False</td>\n",
       "      <td>False</td>\n",
       "    </tr>\n",
       "    <tr>\n",
       "      <th>1895.0</th>\n",
       "      <td>-1.223575e+07</td>\n",
       "      <td>5.688753e+06</td>\n",
       "      <td>-1.223475e+07</td>\n",
       "      <td>5.687753e+06</td>\n",
       "      <td>POLYGON ((-109.91563 45.42546, -109.90665 45.4...</td>\n",
       "      <td>-120.0</td>\n",
       "      <td>False</td>\n",
       "      <td>False</td>\n",
       "    </tr>\n",
       "    <tr>\n",
       "      <th>...</th>\n",
       "      <td>...</td>\n",
       "      <td>...</td>\n",
       "      <td>...</td>\n",
       "      <td>...</td>\n",
       "      <td>...</td>\n",
       "      <td>...</td>\n",
       "      <td>...</td>\n",
       "      <td>...</td>\n",
       "    </tr>\n",
       "    <tr>\n",
       "      <th>428560.0</th>\n",
       "      <td>-1.158275e+07</td>\n",
       "      <td>6.085753e+06</td>\n",
       "      <td>-1.158175e+07</td>\n",
       "      <td>6.084753e+06</td>\n",
       "      <td>POLYGON ((-104.04963 47.87300, -104.04065 47.8...</td>\n",
       "      <td>-120.0</td>\n",
       "      <td>False</td>\n",
       "      <td>True</td>\n",
       "    </tr>\n",
       "    <tr>\n",
       "      <th>428561.0</th>\n",
       "      <td>-1.158275e+07</td>\n",
       "      <td>6.084753e+06</td>\n",
       "      <td>-1.158175e+07</td>\n",
       "      <td>6.083753e+06</td>\n",
       "      <td>POLYGON ((-104.04963 47.86697, -104.04065 47.8...</td>\n",
       "      <td>-120.0</td>\n",
       "      <td>False</td>\n",
       "      <td>True</td>\n",
       "    </tr>\n",
       "    <tr>\n",
       "      <th>428562.0</th>\n",
       "      <td>-1.158275e+07</td>\n",
       "      <td>6.083753e+06</td>\n",
       "      <td>-1.158175e+07</td>\n",
       "      <td>6.082753e+06</td>\n",
       "      <td>POLYGON ((-104.04963 47.86095, -104.04065 47.8...</td>\n",
       "      <td>-120.0</td>\n",
       "      <td>False</td>\n",
       "      <td>True</td>\n",
       "    </tr>\n",
       "    <tr>\n",
       "      <th>428563.0</th>\n",
       "      <td>-1.158275e+07</td>\n",
       "      <td>6.082753e+06</td>\n",
       "      <td>-1.158175e+07</td>\n",
       "      <td>6.081753e+06</td>\n",
       "      <td>POLYGON ((-104.04963 47.85492, -104.04065 47.8...</td>\n",
       "      <td>-105.0</td>\n",
       "      <td>True</td>\n",
       "      <td>True</td>\n",
       "    </tr>\n",
       "    <tr>\n",
       "      <th>428564.0</th>\n",
       "      <td>-1.158275e+07</td>\n",
       "      <td>6.081753e+06</td>\n",
       "      <td>-1.158175e+07</td>\n",
       "      <td>6.080753e+06</td>\n",
       "      <td>POLYGON ((-104.04963 47.84889, -104.04065 47.8...</td>\n",
       "      <td>-120.0</td>\n",
       "      <td>False</td>\n",
       "      <td>True</td>\n",
       "    </tr>\n",
       "  </tbody>\n",
       "</table>\n",
       "<p>11898 rows × 8 columns</p>\n",
       "</div>"
      ],
      "text/plain": [
       "                  left           top         right        bottom  \\\n",
       "id                                                                 \n",
       "585.0    -1.223775e+07  5.690753e+06 -1.223675e+07  5.689753e+06   \n",
       "586.0    -1.223775e+07  5.689753e+06 -1.223675e+07  5.688753e+06   \n",
       "1235.0   -1.223675e+07  5.694753e+06 -1.223575e+07  5.693753e+06   \n",
       "1889.0   -1.223575e+07  5.694753e+06 -1.223475e+07  5.693753e+06   \n",
       "1895.0   -1.223575e+07  5.688753e+06 -1.223475e+07  5.687753e+06   \n",
       "...                ...           ...           ...           ...   \n",
       "428560.0 -1.158275e+07  6.085753e+06 -1.158175e+07  6.084753e+06   \n",
       "428561.0 -1.158275e+07  6.084753e+06 -1.158175e+07  6.083753e+06   \n",
       "428562.0 -1.158275e+07  6.083753e+06 -1.158175e+07  6.082753e+06   \n",
       "428563.0 -1.158275e+07  6.082753e+06 -1.158175e+07  6.081753e+06   \n",
       "428564.0 -1.158275e+07  6.081753e+06 -1.158175e+07  6.080753e+06   \n",
       "\n",
       "                                                   geometry  med_rxpwr  \\\n",
       "id                                                                       \n",
       "585.0     POLYGON ((-109.93360 45.43807, -109.92462 45.4...     -120.0   \n",
       "586.0     POLYGON ((-109.93360 45.43177, -109.92462 45.4...     -120.0   \n",
       "1235.0    POLYGON ((-109.92462 45.46328, -109.91563 45.4...     -120.0   \n",
       "1889.0    POLYGON ((-109.91563 45.46328, -109.90665 45.4...     -120.0   \n",
       "1895.0    POLYGON ((-109.91563 45.42546, -109.90665 45.4...     -120.0   \n",
       "...                                                     ...        ...   \n",
       "428560.0  POLYGON ((-104.04963 47.87300, -104.04065 47.8...     -120.0   \n",
       "428561.0  POLYGON ((-104.04963 47.86697, -104.04065 47.8...     -120.0   \n",
       "428562.0  POLYGON ((-104.04963 47.86095, -104.04065 47.8...     -120.0   \n",
       "428563.0  POLYGON ((-104.04963 47.85492, -104.04065 47.8...     -105.0   \n",
       "428564.0  POLYGON ((-104.04963 47.84889, -104.04065 47.8...     -120.0   \n",
       "\n",
       "          chg_coverage  verizon_coverage  \n",
       "id                                        \n",
       "585.0            False             False  \n",
       "586.0            False              True  \n",
       "1235.0           False             False  \n",
       "1889.0           False             False  \n",
       "1895.0           False             False  \n",
       "...                ...               ...  \n",
       "428560.0         False              True  \n",
       "428561.0         False              True  \n",
       "428562.0         False              True  \n",
       "428563.0          True              True  \n",
       "428564.0         False              True  \n",
       "\n",
       "[11898 rows x 8 columns]"
      ]
     },
     "execution_count": 16,
     "metadata": {},
     "output_type": "execute_result"
    }
   ],
   "source": [
    "grid"
   ]
  },
  {
   "cell_type": "code",
   "execution_count": 17,
   "metadata": {},
   "outputs": [],
   "source": [
    "sn.set(rc={'axes.facecolor':'white', 'figure.facecolor':'white'})"
   ]
  },
  {
   "cell_type": "code",
   "execution_count": 18,
   "metadata": {},
   "outputs": [
    {
     "name": "stdout",
     "output_type": "stream",
     "text": [
      "FCC 477 Verizon Coverage  False  True \n",
      "Challenger Cover                      \n",
      "False                      3301   7902\n",
      "True                        464    231\n"
     ]
    }
   ],
   "source": [
    "confusion_matrix = pd.crosstab(grid['chg_coverage'], grid['verizon_coverage'], rownames=['Challenger Cover'], colnames=['FCC 477 Verizon Coverage'])\n",
    "print (confusion_matrix)"
   ]
  },
  {
   "cell_type": "code",
   "execution_count": 19,
   "metadata": {},
   "outputs": [
    {
     "data": {
      "image/png": "[encoded data removed]",
      "text/plain": [
       "<Figure size 432x288 with 2 Axes>"
      ]
     },
     "metadata": {},
     "output_type": "display_data"
    }
   ],
   "source": [
    "sn.heatmap(confusion_matrix, annot=True)\n",
    "plt.show()"
   ]
  },
  {
   "cell_type": "code",
   "execution_count": null,
   "metadata": {},
   "outputs": [],
   "source": []
  }
 ],
 "metadata": {
  "kernelspec": {
   "display_name": "geopandas-conda-env",
   "language": "python",
   "name": "auto_geopandas"
  },
  "language_info": {
   "codemirror_mode": {
    "name": "ipython",
    "version": 3
   },
   "file_extension": ".py",
   "mimetype": "text/x-python",
   "name": "python",
   "nbconvert_exporter": "python",
   "pygments_lexer": "ipython3",
   "version": "3.8.2"
  }
 },
 "nbformat": 4,
 "nbformat_minor": 4
}
