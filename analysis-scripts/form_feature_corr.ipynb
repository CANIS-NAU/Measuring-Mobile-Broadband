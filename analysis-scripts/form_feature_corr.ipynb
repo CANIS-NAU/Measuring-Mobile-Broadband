{
 "cells": [
  {
   "cell_type": "code",
   "execution_count": 1,
   "metadata": {},
   "outputs": [],
   "source": [
    "import pandas as pd\n",
    "import geopandas as gd\n",
    "import numpy as np\n",
    "import matplotlib.pyplot as plt\n",
    "from datetime import datetime\n",
    "import os\n",
    "import rasterio\n",
    "import rasterio.warp\n",
    "from rasterio import features\n",
    "import shapely.geometry\n",
    "import shapely\n",
    "import seaborn as sn"
   ]
  },
  {
   "cell_type": "code",
   "execution_count": 2,
   "metadata": {},
   "outputs": [],
   "source": [
    "os.chdir('/projects/canis/eoc_feature_corr')"
   ]
  },
  {
   "cell_type": "code",
   "execution_count": 3,
   "metadata": {},
   "outputs": [],
   "source": [
    "grid_path = \"./data/ok_pan_coverage.shp\"\n",
    "grid = gd.read_file(grid_path)\n",
    "grid = grid.set_index('id')"
   ]
  },
  {
   "cell_type": "code",
   "execution_count": 4,
   "metadata": {},
   "outputs": [],
   "source": [
    "original_feature_path = './data/form/landforms_10classes_30m_dd83.img'\n",
    "\n",
    "feature_file = rasterio.open(original_feature_path)\n",
    "feature_raster = feature_file.read(1)"
   ]
  },
  {
   "cell_type": "code",
   "execution_count": 5,
   "metadata": {},
   "outputs": [],
   "source": [
    "dst_crs = rasterio.crs.CRS.from_epsg(3857)"
   ]
  },
  {
   "cell_type": "code",
   "execution_count": 6,
   "metadata": {},
   "outputs": [],
   "source": [
    "transform, width, height = rasterio.warp.calculate_default_transform(\n",
    "    feature_file.crs, dst_crs, feature_file.width,\n",
    "    feature_file.height, *feature_file.bounds)\n",
    "kwargs = feature_file.meta.copy()\n",
    "kwargs.update({\n",
    "        'crs': dst_crs,\n",
    "        'transform': transform,\n",
    "        'width': width,\n",
    "        'height': height\n",
    "    })\n",
    "\n",
    "dst = './data/form/landforms_10classes_30m_dd83_3857.tiff'\n",
    "\n",
    "with rasterio.open(dst, 'w', **kwargs) as dst:\n",
    "    rasterio.warp.reproject(\n",
    "        source=rasterio.band(feature_file, 1),\n",
    "        destination=rasterio.band(dst, 1),\n",
    "        src_transform=feature_file.transform,\n",
    "        src_crs=feature_file.crs,\n",
    "        dst_transform=transform,\n",
    "        dst_crs=dst_crs,\n",
    "        resampling=rasterio.warp.Resampling.nearest)"
   ]
  },
  {
   "cell_type": "code",
   "execution_count": 4,
   "metadata": {},
   "outputs": [],
   "source": [
    "feature_path = './data/cover/landforms_10classes_30m_dd83_3857.tiff'\n",
    "\n",
    "feature_file = rasterio.open(feature_path)\n",
    "feature_raster = feature_file.read(1)"
   ]
  },
  {
   "cell_type": "code",
   "execution_count": 5,
   "metadata": {},
   "outputs": [
    {
     "data": {
      "text/html": [
       "<div>\n",
       "<style scoped>\n",
       "    .dataframe tbody tr th:only-of-type {\n",
       "        vertical-align: middle;\n",
       "    }\n",
       "\n",
       "    .dataframe tbody tr th {\n",
       "        vertical-align: top;\n",
       "    }\n",
       "\n",
       "    .dataframe thead th {\n",
       "        text-align: right;\n",
       "    }\n",
       "</style>\n",
       "<table border=\"1\" class=\"dataframe\">\n",
       "  <thead>\n",
       "    <tr style=\"text-align: right;\">\n",
       "      <th></th>\n",
       "      <th>left</th>\n",
       "      <th>top</th>\n",
       "      <th>right</th>\n",
       "      <th>bottom</th>\n",
       "      <th>med_rxpwr</th>\n",
       "      <th>chg_covera</th>\n",
       "      <th>verizon_co</th>\n",
       "      <th>geometry</th>\n",
       "      <th>feature</th>\n",
       "    </tr>\n",
       "    <tr>\n",
       "      <th>id</th>\n",
       "      <th></th>\n",
       "      <th></th>\n",
       "      <th></th>\n",
       "      <th></th>\n",
       "      <th></th>\n",
       "      <th></th>\n",
       "      <th></th>\n",
       "      <th></th>\n",
       "      <th></th>\n",
       "    </tr>\n",
       "  </thead>\n",
       "  <tbody>\n",
       "    <tr>\n",
       "      <th>27.0</th>\n",
       "      <td>-1.146618e+07</td>\n",
       "      <td>4.413429e+06</td>\n",
       "      <td>-1.146518e+07</td>\n",
       "      <td>4.412429e+06</td>\n",
       "      <td>-120.000</td>\n",
       "      <td>0</td>\n",
       "      <td>1</td>\n",
       "      <td>POLYGON ((-11466176.166 4413429.055, -11465176...</td>\n",
       "      <td>3</td>\n",
       "    </tr>\n",
       "    <tr>\n",
       "      <th>28.0</th>\n",
       "      <td>-1.146618e+07</td>\n",
       "      <td>4.412429e+06</td>\n",
       "      <td>-1.146518e+07</td>\n",
       "      <td>4.411429e+06</td>\n",
       "      <td>-120.000</td>\n",
       "      <td>0</td>\n",
       "      <td>1</td>\n",
       "      <td>POLYGON ((-11466176.166 4412429.055, -11465176...</td>\n",
       "      <td>3</td>\n",
       "    </tr>\n",
       "    <tr>\n",
       "      <th>29.0</th>\n",
       "      <td>-1.146618e+07</td>\n",
       "      <td>4.411429e+06</td>\n",
       "      <td>-1.146518e+07</td>\n",
       "      <td>4.410429e+06</td>\n",
       "      <td>-120.000</td>\n",
       "      <td>0</td>\n",
       "      <td>1</td>\n",
       "      <td>POLYGON ((-11466176.166 4411429.055, -11465176...</td>\n",
       "      <td>3</td>\n",
       "    </tr>\n",
       "    <tr>\n",
       "      <th>30.0</th>\n",
       "      <td>-1.146618e+07</td>\n",
       "      <td>4.410429e+06</td>\n",
       "      <td>-1.146518e+07</td>\n",
       "      <td>4.409429e+06</td>\n",
       "      <td>-120.000</td>\n",
       "      <td>0</td>\n",
       "      <td>1</td>\n",
       "      <td>POLYGON ((-11466176.166 4410429.055, -11465176...</td>\n",
       "      <td>3</td>\n",
       "    </tr>\n",
       "    <tr>\n",
       "      <th>31.0</th>\n",
       "      <td>-1.146618e+07</td>\n",
       "      <td>4.409429e+06</td>\n",
       "      <td>-1.146518e+07</td>\n",
       "      <td>4.408429e+06</td>\n",
       "      <td>-120.000</td>\n",
       "      <td>0</td>\n",
       "      <td>1</td>\n",
       "      <td>POLYGON ((-11466176.166 4409429.055, -11465176...</td>\n",
       "      <td>2</td>\n",
       "    </tr>\n",
       "    <tr>\n",
       "      <th>...</th>\n",
       "      <td>...</td>\n",
       "      <td>...</td>\n",
       "      <td>...</td>\n",
       "      <td>...</td>\n",
       "      <td>...</td>\n",
       "      <td>...</td>\n",
       "      <td>...</td>\n",
       "      <td>...</td>\n",
       "      <td>...</td>\n",
       "    </tr>\n",
       "    <tr>\n",
       "      <th>23376.0</th>\n",
       "      <td>-1.113318e+07</td>\n",
       "      <td>4.374429e+06</td>\n",
       "      <td>-1.113218e+07</td>\n",
       "      <td>4.373429e+06</td>\n",
       "      <td>-106.920</td>\n",
       "      <td>1</td>\n",
       "      <td>1</td>\n",
       "      <td>POLYGON ((-11133176.166 4374429.055, -11132176...</td>\n",
       "      <td>3</td>\n",
       "    </tr>\n",
       "    <tr>\n",
       "      <th>23377.0</th>\n",
       "      <td>-1.113318e+07</td>\n",
       "      <td>4.373429e+06</td>\n",
       "      <td>-1.113218e+07</td>\n",
       "      <td>4.372429e+06</td>\n",
       "      <td>-109.290</td>\n",
       "      <td>1</td>\n",
       "      <td>1</td>\n",
       "      <td>POLYGON ((-11133176.166 4373429.055, -11132176...</td>\n",
       "      <td>2</td>\n",
       "    </tr>\n",
       "    <tr>\n",
       "      <th>23378.0</th>\n",
       "      <td>-1.113318e+07</td>\n",
       "      <td>4.372429e+06</td>\n",
       "      <td>-1.113218e+07</td>\n",
       "      <td>4.371429e+06</td>\n",
       "      <td>-107.125</td>\n",
       "      <td>1</td>\n",
       "      <td>1</td>\n",
       "      <td>POLYGON ((-11133176.166 4372429.055, -11132176...</td>\n",
       "      <td>10</td>\n",
       "    </tr>\n",
       "    <tr>\n",
       "      <th>23379.0</th>\n",
       "      <td>-1.113318e+07</td>\n",
       "      <td>4.371429e+06</td>\n",
       "      <td>-1.113218e+07</td>\n",
       "      <td>4.370429e+06</td>\n",
       "      <td>-103.570</td>\n",
       "      <td>1</td>\n",
       "      <td>1</td>\n",
       "      <td>POLYGON ((-11133176.166 4371429.055, -11132176...</td>\n",
       "      <td>2</td>\n",
       "    </tr>\n",
       "    <tr>\n",
       "      <th>23380.0</th>\n",
       "      <td>-1.113318e+07</td>\n",
       "      <td>4.370429e+06</td>\n",
       "      <td>-1.113218e+07</td>\n",
       "      <td>4.369429e+06</td>\n",
       "      <td>-100.000</td>\n",
       "      <td>1</td>\n",
       "      <td>1</td>\n",
       "      <td>POLYGON ((-11133176.166 4370429.055, -11132176...</td>\n",
       "      <td>2</td>\n",
       "    </tr>\n",
       "  </tbody>\n",
       "</table>\n",
       "<p>18315 rows × 9 columns</p>\n",
       "</div>"
      ],
      "text/plain": [
       "                 left           top         right        bottom  med_rxpwr  \\\n",
       "id                                                                           \n",
       "27.0    -1.146618e+07  4.413429e+06 -1.146518e+07  4.412429e+06   -120.000   \n",
       "28.0    -1.146618e+07  4.412429e+06 -1.146518e+07  4.411429e+06   -120.000   \n",
       "29.0    -1.146618e+07  4.411429e+06 -1.146518e+07  4.410429e+06   -120.000   \n",
       "30.0    -1.146618e+07  4.410429e+06 -1.146518e+07  4.409429e+06   -120.000   \n",
       "31.0    -1.146618e+07  4.409429e+06 -1.146518e+07  4.408429e+06   -120.000   \n",
       "...               ...           ...           ...           ...        ...   \n",
       "23376.0 -1.113318e+07  4.374429e+06 -1.113218e+07  4.373429e+06   -106.920   \n",
       "23377.0 -1.113318e+07  4.373429e+06 -1.113218e+07  4.372429e+06   -109.290   \n",
       "23378.0 -1.113318e+07  4.372429e+06 -1.113218e+07  4.371429e+06   -107.125   \n",
       "23379.0 -1.113318e+07  4.371429e+06 -1.113218e+07  4.370429e+06   -103.570   \n",
       "23380.0 -1.113318e+07  4.370429e+06 -1.113218e+07  4.369429e+06   -100.000   \n",
       "\n",
       "         chg_covera  verizon_co  \\\n",
       "id                                \n",
       "27.0              0           1   \n",
       "28.0              0           1   \n",
       "29.0              0           1   \n",
       "30.0              0           1   \n",
       "31.0              0           1   \n",
       "...             ...         ...   \n",
       "23376.0           1           1   \n",
       "23377.0           1           1   \n",
       "23378.0           1           1   \n",
       "23379.0           1           1   \n",
       "23380.0           1           1   \n",
       "\n",
       "                                                  geometry  feature  \n",
       "id                                                                   \n",
       "27.0     POLYGON ((-11466176.166 4413429.055, -11465176...        3  \n",
       "28.0     POLYGON ((-11466176.166 4412429.055, -11465176...        3  \n",
       "29.0     POLYGON ((-11466176.166 4411429.055, -11465176...        3  \n",
       "30.0     POLYGON ((-11466176.166 4410429.055, -11465176...        3  \n",
       "31.0     POLYGON ((-11466176.166 4409429.055, -11465176...        2  \n",
       "...                                                    ...      ...  \n",
       "23376.0  POLYGON ((-11133176.166 4374429.055, -11132176...        3  \n",
       "23377.0  POLYGON ((-11133176.166 4373429.055, -11132176...        2  \n",
       "23378.0  POLYGON ((-11133176.166 4372429.055, -11132176...       10  \n",
       "23379.0  POLYGON ((-11133176.166 4371429.055, -11132176...        2  \n",
       "23380.0  POLYGON ((-11133176.166 4370429.055, -11132176...        2  \n",
       "\n",
       "[18315 rows x 9 columns]"
      ]
     },
     "execution_count": 5,
     "metadata": {},
     "output_type": "execute_result"
    }
   ],
   "source": [
    "grid['centroid'] = grid['geometry'].centroid\n",
    "grid = grid.set_geometry('centroid')\n",
    "grid['feature'] = grid['centroid'].map(lambda coords: next(feature_file.sample(coords.coords, indexes=1))[0])\n",
    "grid = grid.set_geometry('geometry')\n",
    "grid = grid.drop('centroid', axis=1)\n",
    "grid"
   ]
  },
  {
   "cell_type": "code",
   "execution_count": 6,
   "metadata": {},
   "outputs": [],
   "source": [
    "grid['agreement'] = grid['chg_covera'] == grid['verizon_co']"
   ]
  },
  {
   "cell_type": "code",
   "execution_count": 7,
   "metadata": {},
   "outputs": [],
   "source": [
    "sn.set(rc={'axes.facecolor':'white', 'figure.facecolor':'white'})"
   ]
  },
  {
   "cell_type": "code",
   "execution_count": 21,
   "metadata": {},
   "outputs": [
    {
     "name": "stdout",
     "output_type": "stream",
     "text": [
      "Agreement     False     True \n",
      "Form Type                    \n",
      "1          0.797944  0.202056\n",
      "2          0.773503  0.226497\n",
      "3          0.757390  0.242610\n",
      "4          0.500000  0.500000\n",
      "6          0.500000  0.500000\n",
      "7          0.000000  1.000000\n",
      "10         0.764820  0.235180\n"
     ]
    }
   ],
   "source": [
    "confusion_matrix = pd.crosstab( grid['feature'],grid['agreement'], rownames=['Form Type'], colnames=['Agreement'], normalize='index')\n",
    "print (confusion_matrix)"
   ]
  },
  {
   "cell_type": "code",
   "execution_count": 22,
   "metadata": {},
   "outputs": [],
   "source": [
    "confusion_matrix['Total'] = grid.groupby('feature').count()['agreement']"
   ]
  },
  {
   "cell_type": "code",
   "execution_count": 23,
   "metadata": {},
   "outputs": [
    {
     "data": {
      "image/png": "[encoded data removed]",
      "text/plain": [
       "<Figure size 432x288 with 2 Axes>"
      ]
     },
     "metadata": {},
     "output_type": "display_data"
    }
   ],
   "source": [
    "sn.heatmap(confusion_matrix, annot=True)\n",
    "plt.show()"
   ]
  },
  {
   "cell_type": "code",
   "execution_count": 17,
   "metadata": {},
   "outputs": [
    {
     "name": "stdout",
     "output_type": "stream",
     "text": [
      "Agreement   False  True    All\n",
      "Cover Type                    \n",
      "1            7918  2005   9923\n",
      "2            4262  1248   5510\n",
      "3            1358   435   1793\n",
      "4               3     3      6\n",
      "6              26    26     52\n",
      "7               0     2      2\n",
      "10            787   242   1029\n",
      "All         14354  3961  18315\n"
     ]
    },
    {
     "data": {
      "image/png": "[encoded data removed]",
      "text/plain": [
       "<Figure size 432x288 with 2 Axes>"
      ]
     },
     "metadata": {},
     "output_type": "display_data"
    }
   ],
   "source": [
    "confusion_matrix = pd.crosstab( grid['feature'],grid['agreement'], rownames=['Cover Type'], colnames=['Agreement'], margins=True)\n",
    "print (confusion_matrix)\n",
    "sn.heatmap(confusion_matrix, annot=True)\n",
    "plt.show()"
   ]
  },
  {
   "cell_type": "code",
   "execution_count": null,
   "metadata": {},
   "outputs": [],
   "source": []
  },
  {
   "cell_type": "code",
   "execution_count": null,
   "metadata": {},
   "outputs": [],
   "source": []
  }
 ],
 "metadata": {
  "kernelspec": {
   "display_name": "geopandas37-conda-env",
   "language": "python",
   "name": "auto_geopandas37"
  },
  "language_info": {
   "codemirror_mode": {
    "name": "ipython",
    "version": 3
   },
   "file_extension": ".py",
   "mimetype": "text/x-python",
   "name": "python",
   "nbconvert_exporter": "python",
   "pygments_lexer": "ipython3",
   "version": "3.7.7"
  }
 },
 "nbformat": 4,
 "nbformat_minor": 4
}
