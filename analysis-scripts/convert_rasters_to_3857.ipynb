{
 "cells": [
  {
   "cell_type": "code",
   "execution_count": null,
   "metadata": {},
   "outputs": [],
   "source": [
    "original_feature_path = './data/form/landforms_10classes_30m_dd83.img'\n",
    "\n",
    "feature_file = rasterio.open(original_feature_path)\n",
    "feature_raster = feature_file.read(1)"
   ]
  },
  {
   "cell_type": "code",
   "execution_count": null,
   "metadata": {},
   "outputs": [],
   "source": [
    "dst_crs = rasterio.crs.CRS.from_epsg(3857)"
   ]
  },
  {
   "cell_type": "code",
   "execution_count": null,
   "metadata": {},
   "outputs": [],
   "source": [
    "transform, width, height = rasterio.warp.calculate_default_transform(\n",
    "    feature_file.crs, dst_crs, feature_file.width,\n",
    "    feature_file.height, *feature_file.bounds)\n",
    "kwargs = feature_file.meta.copy()\n",
    "kwargs.update({\n",
    "        'crs': dst_crs,\n",
    "        'transform': transform,\n",
    "        'width': width,\n",
    "        'height': height\n",
    "    })\n",
    "\n",
    "dst = './data/form/landforms_10classes_30m_dd83_3857.tiff'\n",
    "\n",
    "with rasterio.open(dst, 'w', **kwargs) as dst:\n",
    "    rasterio.warp.reproject(\n",
    "        source=rasterio.band(feature_file, 1),\n",
    "        destination=rasterio.band(dst, 1),\n",
    "        src_transform=feature_file.transform,\n",
    "        src_crs=feature_file.crs,\n",
    "        dst_transform=transform,\n",
    "        dst_crs=dst_crs,\n",
    "        resampling=rasterio.warp.Resampling.nearest)"
   ]
  },
  {
   "cell_type": "code",
   "execution_count": null,
   "metadata": {},
   "outputs": [],
   "source": []
  }
 ],
 "metadata": {
  "kernelspec": {
   "display_name": "geopandas37-conda-env",
   "language": "python",
   "name": "auto_geopandas37"
  },
  "language_info": {
   "codemirror_mode": {
    "name": "ipython",
    "version": 3
   },
   "file_extension": ".py",
   "mimetype": "text/x-python",
   "name": "python",
   "nbconvert_exporter": "python",
   "pygments_lexer": "ipython3",
   "version": "3.7.7"
  }
 },
 "nbformat": 4,
 "nbformat_minor": 4
}
