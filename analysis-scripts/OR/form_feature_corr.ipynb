{
 "cells": [
  {
   "cell_type": "code",
   "execution_count": 1,
   "metadata": {},
   "outputs": [],
   "source": [
    "import pandas as pd\n",
    "import geopandas as gd\n",
    "import numpy as np\n",
    "import matplotlib.pyplot as plt\n",
    "from datetime import datetime\n",
    "import os\n",
    "import rasterio\n",
    "import rasterio.warp\n",
    "from rasterio import features\n",
    "import shapely.geometry\n",
    "import shapely\n",
    "import seaborn as sn"
   ]
  },
  {
   "cell_type": "code",
   "execution_count": 2,
   "metadata": {},
   "outputs": [],
   "source": [
    "os.chdir('/projects/canis/eoc_feature_corr')"
   ]
  },
  {
   "cell_type": "code",
   "execution_count": 3,
   "metadata": {},
   "outputs": [],
   "source": [
    "grid_path = \"./data/by_state/OR/or_extent_coverage.shp\"\n",
    "grid = gd.read_file(grid_path)\n",
    "grid = grid.set_index('id')"
   ]
  },
  {
   "cell_type": "code",
   "execution_count": 4,
   "metadata": {},
   "outputs": [],
   "source": [
    "feature_path = './data/cover/landforms_10classes_30m_dd83_3857.tiff'\n",
    "\n",
    "feature_file = rasterio.open(feature_path)\n",
    "feature_raster = feature_file.read(1)"
   ]
  },
  {
   "cell_type": "code",
   "execution_count": 5,
   "metadata": {},
   "outputs": [
    {
     "data": {
      "text/html": [
       "<div>\n",
       "<style scoped>\n",
       "    .dataframe tbody tr th:only-of-type {\n",
       "        vertical-align: middle;\n",
       "    }\n",
       "\n",
       "    .dataframe tbody tr th {\n",
       "        vertical-align: top;\n",
       "    }\n",
       "\n",
       "    .dataframe thead th {\n",
       "        text-align: right;\n",
       "    }\n",
       "</style>\n",
       "<table border=\"1\" class=\"dataframe\">\n",
       "  <thead>\n",
       "    <tr style=\"text-align: right;\">\n",
       "      <th></th>\n",
       "      <th>left</th>\n",
       "      <th>top</th>\n",
       "      <th>right</th>\n",
       "      <th>bottom</th>\n",
       "      <th>med_rxpwr</th>\n",
       "      <th>chg_covera</th>\n",
       "      <th>verizon_co</th>\n",
       "      <th>geometry</th>\n",
       "      <th>feature</th>\n",
       "    </tr>\n",
       "    <tr>\n",
       "      <th>id</th>\n",
       "      <th></th>\n",
       "      <th></th>\n",
       "      <th></th>\n",
       "      <th></th>\n",
       "      <th></th>\n",
       "      <th></th>\n",
       "      <th></th>\n",
       "      <th></th>\n",
       "      <th></th>\n",
       "    </tr>\n",
       "  </thead>\n",
       "  <tbody>\n",
       "    <tr>\n",
       "      <th>130.0</th>\n",
       "      <td>-1.370092e+07</td>\n",
       "      <td>5.619686e+06</td>\n",
       "      <td>-1.369992e+07</td>\n",
       "      <td>5.618686e+06</td>\n",
       "      <td>-115.975</td>\n",
       "      <td>0</td>\n",
       "      <td>1</td>\n",
       "      <td>POLYGON ((-13700919.062 5619685.577, -13699919...</td>\n",
       "      <td>3</td>\n",
       "    </tr>\n",
       "    <tr>\n",
       "      <th>131.0</th>\n",
       "      <td>-1.370092e+07</td>\n",
       "      <td>5.618686e+06</td>\n",
       "      <td>-1.369992e+07</td>\n",
       "      <td>5.617686e+06</td>\n",
       "      <td>-106.430</td>\n",
       "      <td>1</td>\n",
       "      <td>1</td>\n",
       "      <td>POLYGON ((-13700919.062 5618685.577, -13699919...</td>\n",
       "      <td>3</td>\n",
       "    </tr>\n",
       "    <tr>\n",
       "      <th>1010.0</th>\n",
       "      <td>-1.369892e+07</td>\n",
       "      <td>5.615686e+06</td>\n",
       "      <td>-1.369792e+07</td>\n",
       "      <td>5.614686e+06</td>\n",
       "      <td>-99.715</td>\n",
       "      <td>1</td>\n",
       "      <td>1</td>\n",
       "      <td>POLYGON ((-13698919.062 5615685.577, -13697919...</td>\n",
       "      <td>3</td>\n",
       "    </tr>\n",
       "    <tr>\n",
       "      <th>1011.0</th>\n",
       "      <td>-1.369892e+07</td>\n",
       "      <td>5.614686e+06</td>\n",
       "      <td>-1.369792e+07</td>\n",
       "      <td>5.613686e+06</td>\n",
       "      <td>-104.800</td>\n",
       "      <td>1</td>\n",
       "      <td>1</td>\n",
       "      <td>POLYGON ((-13698919.062 5614685.577, -13697919...</td>\n",
       "      <td>3</td>\n",
       "    </tr>\n",
       "    <tr>\n",
       "      <th>1012.0</th>\n",
       "      <td>-1.369892e+07</td>\n",
       "      <td>5.613686e+06</td>\n",
       "      <td>-1.369792e+07</td>\n",
       "      <td>5.612686e+06</td>\n",
       "      <td>-96.780</td>\n",
       "      <td>1</td>\n",
       "      <td>1</td>\n",
       "      <td>POLYGON ((-13698919.062 5613685.577, -13697919...</td>\n",
       "      <td>3</td>\n",
       "    </tr>\n",
       "    <tr>\n",
       "      <th>...</th>\n",
       "      <td>...</td>\n",
       "      <td>...</td>\n",
       "      <td>...</td>\n",
       "      <td>...</td>\n",
       "      <td>...</td>\n",
       "      <td>...</td>\n",
       "      <td>...</td>\n",
       "      <td>...</td>\n",
       "      <td>...</td>\n",
       "    </tr>\n",
       "    <tr>\n",
       "      <th>298996.0</th>\n",
       "      <td>-1.301892e+07</td>\n",
       "      <td>5.469686e+06</td>\n",
       "      <td>-1.301792e+07</td>\n",
       "      <td>5.468686e+06</td>\n",
       "      <td>-87.690</td>\n",
       "      <td>1</td>\n",
       "      <td>1</td>\n",
       "      <td>POLYGON ((-13018919.062 5469685.577, -13017919...</td>\n",
       "      <td>1</td>\n",
       "    </tr>\n",
       "    <tr>\n",
       "      <th>298997.0</th>\n",
       "      <td>-1.301892e+07</td>\n",
       "      <td>5.468686e+06</td>\n",
       "      <td>-1.301792e+07</td>\n",
       "      <td>5.467686e+06</td>\n",
       "      <td>-96.680</td>\n",
       "      <td>1</td>\n",
       "      <td>1</td>\n",
       "      <td>POLYGON ((-13018919.062 5468685.577, -13017919...</td>\n",
       "      <td>1</td>\n",
       "    </tr>\n",
       "    <tr>\n",
       "      <th>298998.0</th>\n",
       "      <td>-1.301892e+07</td>\n",
       "      <td>5.467686e+06</td>\n",
       "      <td>-1.301792e+07</td>\n",
       "      <td>5.466686e+06</td>\n",
       "      <td>-83.085</td>\n",
       "      <td>1</td>\n",
       "      <td>1</td>\n",
       "      <td>POLYGON ((-13018919.062 5467685.577, -13017919...</td>\n",
       "      <td>1</td>\n",
       "    </tr>\n",
       "    <tr>\n",
       "      <th>299434.0</th>\n",
       "      <td>-1.301792e+07</td>\n",
       "      <td>5.469686e+06</td>\n",
       "      <td>-1.301692e+07</td>\n",
       "      <td>5.468686e+06</td>\n",
       "      <td>-103.940</td>\n",
       "      <td>1</td>\n",
       "      <td>1</td>\n",
       "      <td>POLYGON ((-13017919.062 5469685.577, -13016919...</td>\n",
       "      <td>2</td>\n",
       "    </tr>\n",
       "    <tr>\n",
       "      <th>299437.0</th>\n",
       "      <td>-1.301792e+07</td>\n",
       "      <td>5.466686e+06</td>\n",
       "      <td>-1.301692e+07</td>\n",
       "      <td>5.465686e+06</td>\n",
       "      <td>-85.680</td>\n",
       "      <td>1</td>\n",
       "      <td>1</td>\n",
       "      <td>POLYGON ((-13017919.062 5466685.577, -13016919...</td>\n",
       "      <td>3</td>\n",
       "    </tr>\n",
       "  </tbody>\n",
       "</table>\n",
       "<p>3119 rows × 9 columns</p>\n",
       "</div>"
      ],
      "text/plain": [
       "                  left           top         right        bottom  med_rxpwr  \\\n",
       "id                                                                            \n",
       "130.0    -1.370092e+07  5.619686e+06 -1.369992e+07  5.618686e+06   -115.975   \n",
       "131.0    -1.370092e+07  5.618686e+06 -1.369992e+07  5.617686e+06   -106.430   \n",
       "1010.0   -1.369892e+07  5.615686e+06 -1.369792e+07  5.614686e+06    -99.715   \n",
       "1011.0   -1.369892e+07  5.614686e+06 -1.369792e+07  5.613686e+06   -104.800   \n",
       "1012.0   -1.369892e+07  5.613686e+06 -1.369792e+07  5.612686e+06    -96.780   \n",
       "...                ...           ...           ...           ...        ...   \n",
       "298996.0 -1.301892e+07  5.469686e+06 -1.301792e+07  5.468686e+06    -87.690   \n",
       "298997.0 -1.301892e+07  5.468686e+06 -1.301792e+07  5.467686e+06    -96.680   \n",
       "298998.0 -1.301892e+07  5.467686e+06 -1.301792e+07  5.466686e+06    -83.085   \n",
       "299434.0 -1.301792e+07  5.469686e+06 -1.301692e+07  5.468686e+06   -103.940   \n",
       "299437.0 -1.301792e+07  5.466686e+06 -1.301692e+07  5.465686e+06    -85.680   \n",
       "\n",
       "          chg_covera  verizon_co  \\\n",
       "id                                 \n",
       "130.0              0           1   \n",
       "131.0              1           1   \n",
       "1010.0             1           1   \n",
       "1011.0             1           1   \n",
       "1012.0             1           1   \n",
       "...              ...         ...   \n",
       "298996.0           1           1   \n",
       "298997.0           1           1   \n",
       "298998.0           1           1   \n",
       "299434.0           1           1   \n",
       "299437.0           1           1   \n",
       "\n",
       "                                                   geometry  feature  \n",
       "id                                                                    \n",
       "130.0     POLYGON ((-13700919.062 5619685.577, -13699919...        3  \n",
       "131.0     POLYGON ((-13700919.062 5618685.577, -13699919...        3  \n",
       "1010.0    POLYGON ((-13698919.062 5615685.577, -13697919...        3  \n",
       "1011.0    POLYGON ((-13698919.062 5614685.577, -13697919...        3  \n",
       "1012.0    POLYGON ((-13698919.062 5613685.577, -13697919...        3  \n",
       "...                                                     ...      ...  \n",
       "298996.0  POLYGON ((-13018919.062 5469685.577, -13017919...        1  \n",
       "298997.0  POLYGON ((-13018919.062 5468685.577, -13017919...        1  \n",
       "298998.0  POLYGON ((-13018919.062 5467685.577, -13017919...        1  \n",
       "299434.0  POLYGON ((-13017919.062 5469685.577, -13016919...        2  \n",
       "299437.0  POLYGON ((-13017919.062 5466685.577, -13016919...        3  \n",
       "\n",
       "[3119 rows x 9 columns]"
      ]
     },
     "execution_count": 5,
     "metadata": {},
     "output_type": "execute_result"
    }
   ],
   "source": [
    "grid['centroid'] = grid['geometry'].centroid\n",
    "grid = grid.set_geometry('centroid')\n",
    "grid['feature'] = grid['centroid'].map(lambda coords: next(feature_file.sample(coords.coords, indexes=1))[0])\n",
    "grid = grid.set_geometry('geometry')\n",
    "grid = grid.drop('centroid', axis=1)\n",
    "grid"
   ]
  },
  {
   "cell_type": "code",
   "execution_count": 6,
   "metadata": {},
   "outputs": [],
   "source": [
    "grid['agreement'] = grid['chg_covera'] == grid['verizon_co']"
   ]
  },
  {
   "cell_type": "code",
   "execution_count": 7,
   "metadata": {},
   "outputs": [],
   "source": [
    "sn.set(rc={'axes.facecolor':'white', 'figure.facecolor':'white'})"
   ]
  },
  {
   "cell_type": "code",
   "execution_count": 8,
   "metadata": {},
   "outputs": [
    {
     "name": "stdout",
     "output_type": "stream",
     "text": [
      "Agreement     False     True \n",
      "Form Type                    \n",
      "1          0.281513  0.718487\n",
      "2          0.357143  0.642857\n",
      "3          0.486759  0.513241\n",
      "4          0.476923  0.523077\n",
      "6          0.638298  0.361702\n",
      "7          0.707182  0.292818\n",
      "8          0.718750  0.281250\n",
      "9          0.500000  0.500000\n",
      "10         0.629108  0.370892\n"
     ]
    }
   ],
   "source": [
    "confusion_matrix = pd.crosstab( grid['feature'],grid['agreement'], rownames=['Form Type'], colnames=['Agreement'], normalize='index')\n",
    "print (confusion_matrix)"
   ]
  },
  {
   "cell_type": "code",
   "execution_count": 9,
   "metadata": {},
   "outputs": [],
   "source": [
    "confusion_matrix['Total'] = grid.groupby('feature').count()['agreement']"
   ]
  },
  {
   "cell_type": "code",
   "execution_count": 10,
   "metadata": {},
   "outputs": [
    {
     "data": {
      "image/png": "[encoded data removed]",
      "text/plain": [
       "<Figure size 432x288 with 2 Axes>"
      ]
     },
     "metadata": {},
     "output_type": "display_data"
    }
   ],
   "source": [
    "sn.heatmap(confusion_matrix, annot=True)\n",
    "plt.show()"
   ]
  },
  {
   "cell_type": "code",
   "execution_count": 11,
   "metadata": {},
   "outputs": [
    {
     "name": "stdout",
     "output_type": "stream",
     "text": [
      "Agreement   False  True   All\n",
      "Cover Type                   \n",
      "1             201   513   714\n",
      "2             140   252   392\n",
      "3             386   407   793\n",
      "4              31    34    65\n",
      "6              90    51   141\n",
      "7             256   106   362\n",
      "8             161    63   224\n",
      "9               1     1     2\n",
      "10            268   158   426\n",
      "All          1534  1585  3119\n"
     ]
    },
    {
     "data": {
      "image/png": "[encoded data removed]",
      "text/plain": [
       "<Figure size 432x288 with 2 Axes>"
      ]
     },
     "metadata": {},
     "output_type": "display_data"
    }
   ],
   "source": [
    "confusion_matrix = pd.crosstab( grid['feature'],grid['agreement'], rownames=['Cover Type'], colnames=['Agreement'], margins=True)\n",
    "print (confusion_matrix)\n",
    "sn.heatmap(confusion_matrix, annot=True)\n",
    "plt.show()"
   ]
  },
  {
   "cell_type": "code",
   "execution_count": null,
   "metadata": {},
   "outputs": [],
   "source": []
  },
  {
   "cell_type": "code",
   "execution_count": null,
   "metadata": {},
   "outputs": [],
   "source": []
  }
 ],
 "metadata": {
  "kernelspec": {
   "display_name": "geopandas37-conda-env",
   "language": "python",
   "name": "auto_geopandas37"
  },
  "language_info": {
   "codemirror_mode": {
    "name": "ipython",
    "version": 3
   },
   "file_extension": ".py",
   "mimetype": "text/x-python",
   "name": "python",
   "nbconvert_exporter": "python",
   "pygments_lexer": "ipython3",
   "version": "3.7.7"
  }
 },
 "nbformat": 4,
 "nbformat_minor": 4
}
