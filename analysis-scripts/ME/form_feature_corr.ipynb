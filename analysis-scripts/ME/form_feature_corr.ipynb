{
 "cells": [
  {
   "cell_type": "code",
   "execution_count": 1,
   "metadata": {},
   "outputs": [],
   "source": [
    "import pandas as pd\n",
    "import geopandas as gd\n",
    "import numpy as np\n",
    "import matplotlib.pyplot as plt\n",
    "from datetime import datetime\n",
    "import os\n",
    "import rasterio\n",
    "import rasterio.warp\n",
    "from rasterio import features\n",
    "import shapely.geometry\n",
    "import shapely\n",
    "import seaborn as sn"
   ]
  },
  {
   "cell_type": "code",
   "execution_count": 2,
   "metadata": {},
   "outputs": [],
   "source": [
    "os.chdir('/projects/canis/eoc_feature_corr')"
   ]
  },
  {
   "cell_type": "code",
   "execution_count": 3,
   "metadata": {},
   "outputs": [],
   "source": [
    "grid_path = \"./data/by_state/ME/me_extent_coverage.shp\"\n",
    "grid = gd.read_file(grid_path)\n",
    "grid = grid.set_index('id')"
   ]
  },
  {
   "cell_type": "code",
   "execution_count": 4,
   "metadata": {},
   "outputs": [],
   "source": [
    "original_feature_path = './data/form/landforms_10classes_30m_dd83.img'\n",
    "\n",
    "feature_file = rasterio.open(original_feature_path)\n",
    "feature_raster = feature_file.read(1)"
   ]
  },
  {
   "cell_type": "code",
   "execution_count": 5,
   "metadata": {},
   "outputs": [],
   "source": [
    "dst_crs = rasterio.crs.CRS.from_epsg(3857)"
   ]
  },
  {
   "cell_type": "code",
   "execution_count": 6,
   "metadata": {},
   "outputs": [],
   "source": [
    "transform, width, height = rasterio.warp.calculate_default_transform(\n",
    "    feature_file.crs, dst_crs, feature_file.width,\n",
    "    feature_file.height, *feature_file.bounds)\n",
    "kwargs = feature_file.meta.copy()\n",
    "kwargs.update({\n",
    "        'crs': dst_crs,\n",
    "        'transform': transform,\n",
    "        'width': width,\n",
    "        'height': height\n",
    "    })\n",
    "\n",
    "dst = './data/form/landforms_10classes_30m_dd83_3857.tiff'\n",
    "\n",
    "with rasterio.open(dst, 'w', **kwargs) as dst:\n",
    "    rasterio.warp.reproject(\n",
    "        source=rasterio.band(feature_file, 1),\n",
    "        destination=rasterio.band(dst, 1),\n",
    "        src_transform=feature_file.transform,\n",
    "        src_crs=feature_file.crs,\n",
    "        dst_transform=transform,\n",
    "        dst_crs=dst_crs,\n",
    "        resampling=rasterio.warp.Resampling.nearest)"
   ]
  },
  {
   "cell_type": "code",
   "execution_count": 4,
   "metadata": {},
   "outputs": [],
   "source": [
    "feature_path = './data/cover/landforms_10classes_30m_dd83_3857.tiff'\n",
    "\n",
    "feature_file = rasterio.open(feature_path)\n",
    "feature_raster = feature_file.read(1)"
   ]
  },
  {
   "cell_type": "code",
   "execution_count": 5,
   "metadata": {},
   "outputs": [
    {
     "data": {
      "text/html": [
       "<div>\n",
       "<style scoped>\n",
       "    .dataframe tbody tr th:only-of-type {\n",
       "        vertical-align: middle;\n",
       "    }\n",
       "\n",
       "    .dataframe tbody tr th {\n",
       "        vertical-align: top;\n",
       "    }\n",
       "\n",
       "    .dataframe thead th {\n",
       "        text-align: right;\n",
       "    }\n",
       "</style>\n",
       "<table border=\"1\" class=\"dataframe\">\n",
       "  <thead>\n",
       "    <tr style=\"text-align: right;\">\n",
       "      <th></th>\n",
       "      <th>left</th>\n",
       "      <th>top</th>\n",
       "      <th>right</th>\n",
       "      <th>bottom</th>\n",
       "      <th>med_rxpwr</th>\n",
       "      <th>chg_covera</th>\n",
       "      <th>verizon_co</th>\n",
       "      <th>geometry</th>\n",
       "      <th>feature</th>\n",
       "    </tr>\n",
       "    <tr>\n",
       "      <th>id</th>\n",
       "      <th></th>\n",
       "      <th></th>\n",
       "      <th></th>\n",
       "      <th></th>\n",
       "      <th></th>\n",
       "      <th></th>\n",
       "      <th></th>\n",
       "      <th></th>\n",
       "      <th></th>\n",
       "    </tr>\n",
       "  </thead>\n",
       "  <tbody>\n",
       "    <tr>\n",
       "      <th>462.0</th>\n",
       "      <td>-7.855368e+06</td>\n",
       "      <td>5.525930e+06</td>\n",
       "      <td>-7.854368e+06</td>\n",
       "      <td>5.524930e+06</td>\n",
       "      <td>-96.055</td>\n",
       "      <td>1</td>\n",
       "      <td>1</td>\n",
       "      <td>POLYGON ((-7855367.514 5525929.661, -7854367.5...</td>\n",
       "      <td>7</td>\n",
       "    </tr>\n",
       "    <tr>\n",
       "      <th>463.0</th>\n",
       "      <td>-7.855368e+06</td>\n",
       "      <td>5.524930e+06</td>\n",
       "      <td>-7.854368e+06</td>\n",
       "      <td>5.523930e+06</td>\n",
       "      <td>-102.590</td>\n",
       "      <td>1</td>\n",
       "      <td>1</td>\n",
       "      <td>POLYGON ((-7855367.514 5524929.661, -7854367.5...</td>\n",
       "      <td>10</td>\n",
       "    </tr>\n",
       "    <tr>\n",
       "      <th>464.0</th>\n",
       "      <td>-7.855368e+06</td>\n",
       "      <td>5.523930e+06</td>\n",
       "      <td>-7.854368e+06</td>\n",
       "      <td>5.522930e+06</td>\n",
       "      <td>-99.260</td>\n",
       "      <td>1</td>\n",
       "      <td>1</td>\n",
       "      <td>POLYGON ((-7855367.514 5523929.661, -7854367.5...</td>\n",
       "      <td>7</td>\n",
       "    </tr>\n",
       "    <tr>\n",
       "      <th>467.0</th>\n",
       "      <td>-7.855368e+06</td>\n",
       "      <td>5.520930e+06</td>\n",
       "      <td>-7.854368e+06</td>\n",
       "      <td>5.519930e+06</td>\n",
       "      <td>-84.250</td>\n",
       "      <td>1</td>\n",
       "      <td>1</td>\n",
       "      <td>POLYGON ((-7855367.514 5520929.661, -7854367.5...</td>\n",
       "      <td>3</td>\n",
       "    </tr>\n",
       "    <tr>\n",
       "      <th>1001.0</th>\n",
       "      <td>-7.854368e+06</td>\n",
       "      <td>5.523930e+06</td>\n",
       "      <td>-7.853368e+06</td>\n",
       "      <td>5.522930e+06</td>\n",
       "      <td>-95.550</td>\n",
       "      <td>1</td>\n",
       "      <td>1</td>\n",
       "      <td>POLYGON ((-7854367.514 5523929.661, -7853367.5...</td>\n",
       "      <td>8</td>\n",
       "    </tr>\n",
       "    <tr>\n",
       "      <th>...</th>\n",
       "      <td>...</td>\n",
       "      <td>...</td>\n",
       "      <td>...</td>\n",
       "      <td>...</td>\n",
       "      <td>...</td>\n",
       "      <td>...</td>\n",
       "      <td>...</td>\n",
       "      <td>...</td>\n",
       "      <td>...</td>\n",
       "    </tr>\n",
       "    <tr>\n",
       "      <th>206582.0</th>\n",
       "      <td>-7.471368e+06</td>\n",
       "      <td>5.613930e+06</td>\n",
       "      <td>-7.470368e+06</td>\n",
       "      <td>5.612930e+06</td>\n",
       "      <td>-120.540</td>\n",
       "      <td>0</td>\n",
       "      <td>0</td>\n",
       "      <td>POLYGON ((-7471367.514 5613929.661, -7470367.5...</td>\n",
       "      <td>3</td>\n",
       "    </tr>\n",
       "    <tr>\n",
       "      <th>207118.0</th>\n",
       "      <td>-7.470368e+06</td>\n",
       "      <td>5.614930e+06</td>\n",
       "      <td>-7.469368e+06</td>\n",
       "      <td>5.613930e+06</td>\n",
       "      <td>-117.160</td>\n",
       "      <td>0</td>\n",
       "      <td>0</td>\n",
       "      <td>POLYGON ((-7470367.514 5614929.661, -7469367.5...</td>\n",
       "      <td>3</td>\n",
       "    </tr>\n",
       "    <tr>\n",
       "      <th>207119.0</th>\n",
       "      <td>-7.470368e+06</td>\n",
       "      <td>5.613930e+06</td>\n",
       "      <td>-7.469368e+06</td>\n",
       "      <td>5.612930e+06</td>\n",
       "      <td>-123.710</td>\n",
       "      <td>0</td>\n",
       "      <td>0</td>\n",
       "      <td>POLYGON ((-7470367.514 5613929.661, -7469367.5...</td>\n",
       "      <td>0</td>\n",
       "    </tr>\n",
       "    <tr>\n",
       "      <th>208194.0</th>\n",
       "      <td>-7.468368e+06</td>\n",
       "      <td>5.612930e+06</td>\n",
       "      <td>-7.467368e+06</td>\n",
       "      <td>5.611930e+06</td>\n",
       "      <td>-119.235</td>\n",
       "      <td>0</td>\n",
       "      <td>0</td>\n",
       "      <td>POLYGON ((-7468367.514 5612929.661, -7467367.5...</td>\n",
       "      <td>3</td>\n",
       "    </tr>\n",
       "    <tr>\n",
       "      <th>208731.0</th>\n",
       "      <td>-7.467368e+06</td>\n",
       "      <td>5.612930e+06</td>\n",
       "      <td>-7.466368e+06</td>\n",
       "      <td>5.611930e+06</td>\n",
       "      <td>-116.375</td>\n",
       "      <td>0</td>\n",
       "      <td>0</td>\n",
       "      <td>POLYGON ((-7467367.514 5612929.661, -7466367.5...</td>\n",
       "      <td>3</td>\n",
       "    </tr>\n",
       "  </tbody>\n",
       "</table>\n",
       "<p>9131 rows × 9 columns</p>\n",
       "</div>"
      ],
      "text/plain": [
       "                  left           top         right        bottom  med_rxpwr  \\\n",
       "id                                                                            \n",
       "462.0    -7.855368e+06  5.525930e+06 -7.854368e+06  5.524930e+06    -96.055   \n",
       "463.0    -7.855368e+06  5.524930e+06 -7.854368e+06  5.523930e+06   -102.590   \n",
       "464.0    -7.855368e+06  5.523930e+06 -7.854368e+06  5.522930e+06    -99.260   \n",
       "467.0    -7.855368e+06  5.520930e+06 -7.854368e+06  5.519930e+06    -84.250   \n",
       "1001.0   -7.854368e+06  5.523930e+06 -7.853368e+06  5.522930e+06    -95.550   \n",
       "...                ...           ...           ...           ...        ...   \n",
       "206582.0 -7.471368e+06  5.613930e+06 -7.470368e+06  5.612930e+06   -120.540   \n",
       "207118.0 -7.470368e+06  5.614930e+06 -7.469368e+06  5.613930e+06   -117.160   \n",
       "207119.0 -7.470368e+06  5.613930e+06 -7.469368e+06  5.612930e+06   -123.710   \n",
       "208194.0 -7.468368e+06  5.612930e+06 -7.467368e+06  5.611930e+06   -119.235   \n",
       "208731.0 -7.467368e+06  5.612930e+06 -7.466368e+06  5.611930e+06   -116.375   \n",
       "\n",
       "          chg_covera  verizon_co  \\\n",
       "id                                 \n",
       "462.0              1           1   \n",
       "463.0              1           1   \n",
       "464.0              1           1   \n",
       "467.0              1           1   \n",
       "1001.0             1           1   \n",
       "...              ...         ...   \n",
       "206582.0           0           0   \n",
       "207118.0           0           0   \n",
       "207119.0           0           0   \n",
       "208194.0           0           0   \n",
       "208731.0           0           0   \n",
       "\n",
       "                                                   geometry  feature  \n",
       "id                                                                    \n",
       "462.0     POLYGON ((-7855367.514 5525929.661, -7854367.5...        7  \n",
       "463.0     POLYGON ((-7855367.514 5524929.661, -7854367.5...       10  \n",
       "464.0     POLYGON ((-7855367.514 5523929.661, -7854367.5...        7  \n",
       "467.0     POLYGON ((-7855367.514 5520929.661, -7854367.5...        3  \n",
       "1001.0    POLYGON ((-7854367.514 5523929.661, -7853367.5...        8  \n",
       "...                                                     ...      ...  \n",
       "206582.0  POLYGON ((-7471367.514 5613929.661, -7470367.5...        3  \n",
       "207118.0  POLYGON ((-7470367.514 5614929.661, -7469367.5...        3  \n",
       "207119.0  POLYGON ((-7470367.514 5613929.661, -7469367.5...        0  \n",
       "208194.0  POLYGON ((-7468367.514 5612929.661, -7467367.5...        3  \n",
       "208731.0  POLYGON ((-7467367.514 5612929.661, -7466367.5...        3  \n",
       "\n",
       "[9131 rows x 9 columns]"
      ]
     },
     "execution_count": 5,
     "metadata": {},
     "output_type": "execute_result"
    }
   ],
   "source": [
    "grid['centroid'] = grid['geometry'].centroid\n",
    "grid = grid.set_geometry('centroid')\n",
    "grid['feature'] = grid['centroid'].map(lambda coords: next(feature_file.sample(coords.coords, indexes=1))[0])\n",
    "grid = grid.set_geometry('geometry')\n",
    "grid = grid.drop('centroid', axis=1)\n",
    "grid"
   ]
  },
  {
   "cell_type": "code",
   "execution_count": 6,
   "metadata": {},
   "outputs": [],
   "source": [
    "grid['agreement'] = grid['chg_covera'] == grid['verizon_co']"
   ]
  },
  {
   "cell_type": "code",
   "execution_count": 7,
   "metadata": {},
   "outputs": [],
   "source": [
    "sn.set(rc={'axes.facecolor':'white', 'figure.facecolor':'white'})"
   ]
  },
  {
   "cell_type": "code",
   "execution_count": 8,
   "metadata": {},
   "outputs": [
    {
     "name": "stdout",
     "output_type": "stream",
     "text": [
      "Agreement     False     True \n",
      "Form Type                    \n",
      "0          0.350000  0.650000\n",
      "1          0.568966  0.431034\n",
      "2          0.562914  0.437086\n",
      "3          0.574094  0.425906\n",
      "4          0.537634  0.462366\n",
      "6          0.588235  0.411765\n",
      "7          0.547368  0.452632\n",
      "8          0.581967  0.418033\n",
      "10         0.561955  0.438045\n"
     ]
    }
   ],
   "source": [
    "confusion_matrix = pd.crosstab( grid['feature'],grid['agreement'], rownames=['Form Type'], colnames=['Agreement'], normalize='index')\n",
    "print (confusion_matrix)"
   ]
  },
  {
   "cell_type": "code",
   "execution_count": 9,
   "metadata": {},
   "outputs": [],
   "source": [
    "confusion_matrix['Total'] = grid.groupby('feature').count()['agreement']"
   ]
  },
  {
   "cell_type": "code",
   "execution_count": 10,
   "metadata": {},
   "outputs": [
    {
     "data": {
      "image/png": "[encoded data removed]",
      "text/plain": [
       "<Figure size 432x288 with 2 Axes>"
      ]
     },
     "metadata": {},
     "output_type": "display_data"
    }
   ],
   "source": [
    "sn.heatmap(confusion_matrix, annot=True)\n",
    "plt.show()"
   ]
  },
  {
   "cell_type": "code",
   "execution_count": 11,
   "metadata": {},
   "outputs": [
    {
     "name": "stdout",
     "output_type": "stream",
     "text": [
      "Agreement   False  True   All\n",
      "Cover Type                   \n",
      "0               7    13    20\n",
      "1             198   150   348\n",
      "2            1020   792  1812\n",
      "3            2677  1986  4663\n",
      "4              50    43    93\n",
      "6             210   147   357\n",
      "7             312   258   570\n",
      "8              71    51   122\n",
      "10            644   502  1146\n",
      "All          5189  3942  9131\n"
     ]
    },
    {
     "data": {
      "image/png": "[encoded data removed]",
      "text/plain": [
       "<Figure size 432x288 with 2 Axes>"
      ]
     },
     "metadata": {},
     "output_type": "display_data"
    }
   ],
   "source": [
    "confusion_matrix = pd.crosstab( grid['feature'],grid['agreement'], rownames=['Cover Type'], colnames=['Agreement'], margins=True)\n",
    "print (confusion_matrix)\n",
    "sn.heatmap(confusion_matrix, annot=True)\n",
    "plt.show()"
   ]
  },
  {
   "cell_type": "code",
   "execution_count": null,
   "metadata": {},
   "outputs": [],
   "source": []
  },
  {
   "cell_type": "code",
   "execution_count": null,
   "metadata": {},
   "outputs": [],
   "source": []
  }
 ],
 "metadata": {
  "kernelspec": {
   "display_name": "geopandas37-conda-env",
   "language": "python",
   "name": "auto_geopandas37"
  },
  "language_info": {
   "codemirror_mode": {
    "name": "ipython",
    "version": 3
   },
   "file_extension": ".py",
   "mimetype": "text/x-python",
   "name": "python",
   "nbconvert_exporter": "python",
   "pygments_lexer": "ipython3",
   "version": "3.7.7"
  }
 },
 "nbformat": 4,
 "nbformat_minor": 4
}
